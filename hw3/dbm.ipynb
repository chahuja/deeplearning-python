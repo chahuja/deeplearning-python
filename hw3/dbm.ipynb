{
 "cells": [
  {
   "cell_type": "markdown",
   "metadata": {},
   "source": [
    "# Mean Field Algorithm for DBMs"
   ]
  },
  {
   "cell_type": "code",
   "execution_count": 1,
   "metadata": {
    "collapsed": false
   },
   "outputs": [
    {
     "name": "stderr",
     "output_type": "stream",
     "text": [
      "/home/chahuja/env/th/lib/python2.7/site-packages/matplotlib/font_manager.py:273: UserWarning: Matplotlib is building the font cache using fc-list. This may take a moment.\n",
      "  warnings.warn('Matplotlib is building the font cache using fc-list. This may take a moment.')\n"
     ]
    }
   ],
   "source": [
    "import numpy as np\n",
    "import pdb\n",
    "import pickle as pkl\n",
    "import matplotlib\n",
    "%matplotlib inline\n",
    "#matplotlib.use('agg')\n",
    "import matplotlib.pyplot as plt\n",
    "import matplotlib.gridspec as gridspec\n",
    "from tqdm import tqdm\n",
    "import argparse\n",
    "import sys\n",
    "import os"
   ]
  },
  {
   "cell_type": "code",
   "execution_count": 2,
   "metadata": {
    "collapsed": false
   },
   "outputs": [],
   "source": [
    "## Set random state to reproduce data\n",
    "rState = np.random.RandomState(212)\n",
    "# Load Data\n",
    "train = np.matrix(np.genfromtxt('digitstrain.txt', delimiter=','))\n",
    "rState.shuffle(train) ## Shuffle to improve convergence\n",
    "test = np.matrix(np.genfromtxt('digitstest.txt', delimiter=','))\n",
    "val = np.matrix(np.genfromtxt('digitsvalid.txt', delimiter=','))\n",
    "\n",
    "# Removing the class from the dataset\n",
    "\n",
    "_train = train[:,:-1]\n",
    "_test = test[:,:-1]\n",
    "_val = val[:,:-1]\n",
    "\n",
    "# and thresholding to {0,1}\n",
    "train = np.round(_train)\n",
    "test = np.round(_test)\n",
    "val = np.round(_val)"
   ]
  },
  {
   "cell_type": "code",
   "execution_count": 3,
   "metadata": {
    "collapsed": false
   },
   "outputs": [
    {
     "data": {
      "image/png": "[encoded data removed]",
      "text/plain": [
       "<matplotlib.figure.Figure at 0x7fa16816c3d0>"
      ]
     },
     "metadata": {},
     "output_type": "display_data"
    }
   ],
   "source": [
    "# Plotting the image \n",
    "## The data is in row-major format\n",
    "def plot_image(train):\n",
    "  plt.imshow(train[0].reshape((28,28)), cmap=plt.cm.gray)\n",
    "## The image is squeezed row-wise\n",
    "plot_image(train)"
   ]
  },
  {
   "cell_type": "code",
   "execution_count": 4,
   "metadata": {
    "collapsed": false
   },
   "outputs": [],
   "source": [
    "def softplus(X):\n",
    "  return np.log(1+np.exp(X))\n",
    "\n",
    "def sigmoid(mat):\n",
    "  return 1./(1+ np.exp(-mat))\n",
    "\n",
    "def cross_entropy_loss(vec, gt):\n",
    "  ## take the average\n",
    "  return (-np.multiply(gt,np.log(vec)) - np.multiply(1-gt,np.log(1-vec))).sum()/vec.shape[1]\n",
    "\n",
    "def copy_list(a):\n",
    "  return [a[i].copy() for i in range(len(a))]"
   ]
  },
  {
   "cell_type": "markdown",
   "metadata": {},
   "source": [
    "# Visualization"
   ]
  },
  {
   "cell_type": "code",
   "execution_count": 5,
   "metadata": {
    "collapsed": true
   },
   "outputs": [],
   "source": [
    "## Visualizing filters\n",
    "def vis(W, save_name):\n",
    "  dim = W.shape[1]\n",
    "  n_image_rows = int(np.ceil(np.sqrt(dim)))\n",
    "  n_image_cols = int(np.ceil(dim * 1.0/n_image_rows))\n",
    "  gs = gridspec.GridSpec(n_image_rows,n_image_cols,top=1., bottom=0., right=1., left=0., hspace=0., wspace=0.)\n",
    "  for g,count in zip(gs,range(int(dim))):\n",
    "    ax = plt.subplot(g)\n",
    "    ax.imshow(W[:,count].reshape((28,28)))\n",
    "    ax.set_xticks([])\n",
    "    ax.set_yticks([])\n",
    "  plt.savefig(save_name + '_vis.png')\n",
    "\n",
    "def plot_cce(model, save_name):  \n",
    "  train_plt = plt.plot(range(len(model.hist.train_loss)),model.hist.train_loss, 'r--', label='Train')\n",
    "  val_plt = plt.plot(range(len(model.hist.val_loss)),model.hist.val_loss, 'g-', label=\"Val\")\n",
    "  plt.xlabel('No. of Epochs')\n",
    "  plt.ylabel('mean(Entropy Loss)')\n",
    "  plt.savefig(save_name+'.png')\n",
    "\n",
    "def plot_err(model, save_name):  \n",
    "  train_plt = plt.plot(range(len(model.hist.train_loss)),model.hist.train_class_loss, 'r--', label='Train')\n",
    "  val_plt = plt.plot(range(len(model.hist.val_loss)),model.hist.val_class_loss, 'g-', label=\"Val\")\n",
    "  plt.xlabel('No. of Epochs')\n",
    "  plt.ylabel('Classification Error')\n",
    "  plt.savefig(save_name+'_err.png')"
   ]
  },
  {
   "cell_type": "markdown",
   "metadata": {},
   "source": [
    "# Saving and loading the model"
   ]
  },
  {
   "cell_type": "code",
   "execution_count": 65,
   "metadata": {
    "collapsed": true
   },
   "outputs": [],
   "source": [
    "def save_model(model, filename):\n",
    "  fl = open(filename,'wb')\n",
    "  pkl.dump(model,fl)\n",
    "  \n",
    "def save_weights(model, filename):\n",
    "  fl = open(filename, 'wb')\n",
    "  pkl.dump([model.W1, model.W2, model.b, model.c, model.d], fl)\n",
    "  \n",
    "def load_model(filename):\n",
    "  fl = open(filename, 'rb')\n",
    "  return pkl.load(fl)"
   ]
  },
  {
   "cell_type": "markdown",
   "metadata": {},
   "source": [
    "# Loss History Class"
   ]
  },
  {
   "cell_type": "code",
   "execution_count": 66,
   "metadata": {
    "collapsed": true
   },
   "outputs": [],
   "source": [
    "class history(object):\n",
    "  def __init__(self):\n",
    "    self.train_loss = list()\n",
    "    self.val_loss = list()\n",
    "    \n",
    "  def add(self,train_loss, val_loss):\n",
    "    self.train_loss.append(train_loss)\n",
    "    self.val_loss.append(val_loss)"
   ]
  },
  {
   "cell_type": "markdown",
   "metadata": {},
   "source": [
    "# Model Class DBM"
   ]
  },
  {
   "cell_type": "code",
   "execution_count": 173,
   "metadata": {
    "collapsed": false
   },
   "outputs": [],
   "source": [
    "class DBM(object):\n",
    "  def __init__(self,graph,batch,chains):\n",
    "    self.graph = graph\n",
    "    self.hist = history()\n",
    "    self.chains = chains\n",
    "    self.batch = batch\n",
    "    \n",
    "    ## initialize the weights\n",
    "    high = np.sqrt(6.0/(sum(graph[:-1])))\n",
    "    low = -high\n",
    "    self.W1 = rState.uniform(low=low,high=high, size=(graph[0],graph[1])) # VXH1\n",
    "    self.W2 = rState.uniform(low=low,high=high, size=(graph[1],graph[2])) # H1XH2\n",
    "    self.b = rState.uniform(low=low,high=high, size=(graph[0],1)) # VX1\n",
    "    self.c = rState.uniform(low=low,high=high, size=(graph[1],1)) # H1X1\n",
    "    self.d = rState.uniform(low=low,high=high, size=(graph[2],1)) # H2X1\n",
    "    ## E(v,h1,h2) = -v'W1h1 -h1'W2v - b'v - c'h1 - d'h2 \n",
    "    \n",
    "    self.randomize_gibbs_updates()\n",
    "    self.W_optimal = copy_list([self.W1, self.W2, self.b, self.c, self.d])\n",
    "\n",
    "  def randomize_gibbs_updates(self):\n",
    "    self.V_tilda = self.sample(rState.uniform(low=0,high=1, size=(self.chains,self.graph[0])))\n",
    "    self.H1_tilda = self.sample(rState.uniform(low=0,high=1, size=(self.chains,self.graph[1])))\n",
    "    self.H2_tilda = self.sample(rState.uniform(low=0,high=1, size=(self.chains,self.graph[2])))\n",
    "    \n",
    "  def restore_optimal_weights(self):\n",
    "    self.W1 = self.W_optimal[0]\n",
    "    self.W2 = self.W_optimal[1]\n",
    "    self.b = self.W_optimal[2]\n",
    "    self.c = self.W_optimal[3]\n",
    "    self.d = self.W_optimal[4]\n",
    "\n",
    "  def h(self,x):\n",
    "    return sigmoid(np.matmul(self.W, x) + self.b)\n",
    "  \n",
    "  def h_inv(self, h):\n",
    "    return sigmoid(np.matmul(self.W.T, h) + self.c)\n",
    "  \n",
    "  def h1_v_h2(self,v,h2):\n",
    "    return sigmoid(np.matmul(v, self.W1) + np.matmul(h2, self.W2.T)+ self.c.T)\n",
    "  \n",
    "  def v_h1(self, h1):\n",
    "    return sigmoid(np.matmul(h1, self.W1.T) + self.b.T)\n",
    "  \n",
    "  def h2_h1(self, h1):\n",
    "    return sigmoid(np.matmul(h1, self.W2) + self.d.T)\n",
    "    \n",
    "  def sample(self,P):\n",
    "    return np.random.binomial(1,P,size=P.shape)\n",
    "  \n",
    "  ## Mean field updates\n",
    "  def mfu(self,V):\n",
    "    self.H1_cap = self.sample(rState.uniform(low=0,high=1, size=(self.batch,self.graph[1])))\n",
    "    self.H2_cap = self.sample(rState.uniform(low=0,high=1, size=(self.batch,self.graph[2])))\n",
    "    \n",
    "    #pdb.set_trace()\n",
    "    self.H1_cap = sigmoid(np.matmul(V,self.W1) + np.matmul(self.H2_cap, self.W2.T) + self.c.T)\n",
    "    self.H2_cap = sigmoid(np.matmul(self.H1_cap,self.W2) + self.d.T)\n",
    "    \n",
    "  ## MCMC chain to predict a {0,1} output\n",
    "  def MCMC(self, k):\n",
    "    ## create a MCMC chain\n",
    "    for i in range(k):\n",
    "      _v = sigmoid(np.matmul(self.H1_tilda, self.W1.T) + self.b.T) \n",
    "      self.V_tilda = self.sample(_v)\n",
    "      \n",
    "      _h2 = sigmoid(np.matmul(self.H1_tilda, self.W2) + self.d.T)\n",
    "      self.H2_tilda = self.sample(_h2)\n",
    "      \n",
    "      _h1 = sigmoid(np.matmul(self.V_tilda, self.W1) + np.matmul(self.H2_tilda, self.W2.T)+ self.c.T)\n",
    "      self.H1_tilda = self.sample(_h1)\n",
    "  \n",
    "  ## MCMC chain to predict a continous output\n",
    "  def generation(self, x, k):\n",
    "    _x = self.sample(x)\n",
    "    _x = _x.T\n",
    "    _h2 = self.sample(rState.uniform(low=0,high=1,size=(x.shape[1],self.graph[2])))\n",
    "    for i in tqdm(range(k)):\n",
    "      _h1 = self.sample(self.h1_v_h2(_x,_h2))\n",
    "      _h2 = self.sample(self.h2_h1(_h1))\n",
    "      _h1 = self.sample(self.h1_v_h2(_x,_h2))\n",
    "      _x = self.sample(self.v_h1(_h1))\n",
    "    \n",
    "    return _x.T\n",
    "  \n",
    "  def train(self, V, k=1, lr=0.01):\n",
    "    self.mfu(V)\n",
    "    self.MCMC(k)\n",
    "    gradW1 = np.matmul(V.T, self.H1_cap/(self.batch*1.0)) - np.matmul(self.V_tilda.T, self.H1_tilda/(self.chains*1.0)) \n",
    "    gradW2 = np.matmul(self.H1_cap.T, self.H2_cap/(self.batch*1.0)) - np.matmul(self.H1_tilda.T, self.H2_tilda/(self.chains*1.0)) \n",
    "    gradb = np.mean(V,axis=0) - np.mean(self.V_tilda, axis=0)\n",
    "    gradc = np.mean(self.H1_cap,axis=0) - np.mean(self.H1_tilda, axis=0)\n",
    "    gradd = np.mean(self.H2_cap,axis=0) - np.mean(self.H2_tilda, axis=0)\n",
    "    \n",
    "    ## gradient updates applied on the weights\n",
    "    self.W1 += lr*gradW1\n",
    "    self.W2 += lr*gradW2\n",
    "    self.b += lr*gradb.T\n",
    "    self.c += lr*gradc.T\n",
    "    self.d += lr*gradd.T"
   ]
  },
  {
   "cell_type": "code",
   "execution_count": 174,
   "metadata": {
    "collapsed": false
   },
   "outputs": [],
   "source": [
    "def mean_cross_entropy_loss(model, X, k=1):\n",
    "  x_gt = X\n",
    "  _x = model.sample(x_gt)\n",
    "  _h2 = model.sample(rState.uniform(low=0,high=1,size=(X.shape[0],model.graph[2])))\n",
    "  for _ in range(k):\n",
    "    _x = model.sample(_x)\n",
    "    _h1 = model.sample(model.h1_v_h2(_x,_h2))\n",
    "    _h2 = model.sample(model.h2_h1(_h1))\n",
    "    _h1 = model.sample(model.h1_v_h2(_x,_h2))\n",
    "    _x = model.v_h1(_h1)\n",
    "    #x_cap = model.h_inv(model.sample(model.h(model.sample(x_gt))))\n",
    "  l = cross_entropy_loss(_x.T, x_gt.T)\n",
    "  return l"
   ]
  },
  {
   "cell_type": "code",
   "execution_count": 175,
   "metadata": {
    "collapsed": false
   },
   "outputs": [],
   "source": [
    "def sgd_train(args):\n",
    "  ## automatically creating a savename\n",
    "  save_name = \"%s_k%d_graph_%d\" %(args.save_dir, args.num_mcmc,args.graph[1])\n",
    "  save_name = os.path.join(args.save_dir, save_name)\n",
    "  \n",
    "  ## initilizing the rbm model\n",
    "  dbm = DBM(args.graph,args.batch, args.chains)\n",
    "  if args.batch > len(train):\n",
    "    args.batch = len(train)\n",
    "  indices = range(0,len(train)+1, args.batch)\n",
    "  for count in tqdm(range(args.num_epochs)):\n",
    "    for start,end in zip(indices[:-1], indices[1:]):\n",
    "      dbm.train(train[start:end,:], k=args.num_mcmc, lr=args.lr)\n",
    "    ## Calculation of cross entropy loss\n",
    "    train_loss = mean_cross_entropy_loss(dbm, train)\n",
    "    val_loss = mean_cross_entropy_loss(dbm, val)\n",
    "    ## Add loss to the history variable\n",
    "    dbm.hist.add(train_loss, val_loss)\n",
    "    tqdm.write(\"Epochs:%d TrainLoss:%5f ValLoss:%5f\" % (count, train_loss, val_loss))\n",
    "    \n",
    "  ## plot and save images\n",
    "  plot_cce(model=dbm, save_name=save_name)\n",
    "  vis(W=dbm.W1, save_name=save_name)\n",
    "  \n",
    "  ## save model\n",
    "  save_model(dbm, save_name + '_model.p')\n",
    "  ## save weights\n",
    "  save_weights(dbm, save_name + 'weights.p')\n",
    "  return dbm"
   ]
  },
  {
   "cell_type": "code",
   "execution_count": 176,
   "metadata": {
    "collapsed": false
   },
   "outputs": [],
   "source": [
    "def digit_generation(model, filename='temp'):\n",
    "  X = np.random.uniform(size=train[0:100].T.shape)\n",
    "  ## binarize the input\n",
    "  X = np.round(X)\n",
    "  print np.max(X), np.min(X)\n",
    "  X_cap = model.generation(X,1000)\n",
    "  vis(X_cap,filename+'_gen')"
   ]
  },
  {
   "cell_type": "code",
   "execution_count": 177,
   "metadata": {
    "collapsed": false
   },
   "outputs": [],
   "source": [
    "def main():\n",
    "  parser = argparse.ArgumentParser()\n",
    "  parser.add_argument('--save_dir', type=str, default='save',\n",
    "                      help='directory to store checkpointed models')\n",
    "  parser.add_argument('--graph', type=int ,nargs='+', default=[784,100,100],\n",
    "                      help='Structure of the NN') \n",
    "  parser.add_argument('--batch', type=int , default=10,\n",
    "                      help='mini-batch size') \n",
    "  parser.add_argument('--chains', type=int , default=100,\n",
    "                      help='number of chains') \n",
    "  parser.add_argument('--lam', type=float, default=0,\n",
    "                      help='regularizing coefficient')\n",
    "  parser.add_argument('--lr', type=float, default=0.01,\n",
    "                      help='learning rate')\n",
    "  parser.add_argument('--num_epochs', type=int, default=1, \n",
    "                      help='number of epochs')\n",
    "  parser.add_argument('--num_mcmc', type=int, default=1, \n",
    "                      help='number of mcmc iterations')\n",
    "  parser.add_argument('--seed', type=int, default=212, \n",
    "                      help='Random Seed')\n",
    "  args = parser.parse_args()\n",
    "  try:\n",
    "    os.makedirs(args.save_dir)\n",
    "  except:\n",
    "    pass\n",
    "  ## Train model\n",
    "  model = sgd_train(args)\n",
    "  \n",
    "  ## (c) Sample from images\n",
    "  save_name = \"%s_k%d_graph_%d\" %(args.save_dir, args.num_mcmc,args.graph[1])\n",
    "  save_name = os.path.join(args.save_dir, save_name)\n",
    "  digit_generation(model, filename=save_name)\n",
    "  return model"
   ]
  },
  {
   "cell_type": "code",
   "execution_count": 179,
   "metadata": {
    "collapsed": false
   },
   "outputs": [
    {
     "name": "stderr",
     "output_type": "stream",
     "text": [
      "  1%|          | 1/100 [00:02<04:21,  2.64s/it]"
     ]
    },
    {
     "name": "stdout",
     "output_type": "stream",
     "text": [
      "Epochs:0 TrainLoss:220.541814 ValLoss:220.824476\n",
      "Epochs:1 TrainLoss:209.345391 ValLoss:209.632140"
     ]
    },
    {
     "name": "stderr",
     "output_type": "stream",
     "text": [
      "\r",
      "          \r",
      "\r",
      "          \r",
      "  1%|          | 1/100 [00:02<04:07,  2.50s/it]\r",
      "  2%|▏         | 2/100 [00:05<04:14,  2.60s/it]"
     ]
    },
    {
     "name": "stdout",
     "output_type": "stream",
     "text": [
      "\n",
      "Epochs:2 TrainLoss:204.086190 ValLoss:204.193833"
     ]
    },
    {
     "name": "stderr",
     "output_type": "stream",
     "text": [
      "\r",
      "          \r",
      "\r",
      "          \r",
      "  2%|▏         | 2/100 [00:02<02:13,  1.37s/it]\r",
      "  3%|▎         | 3/100 [00:07<04:16,  2.64s/it]"
     ]
    },
    {
     "name": "stdout",
     "output_type": "stream",
     "text": [
      "\n",
      "Epochs:3 TrainLoss:204.196459 ValLoss:204.082474"
     ]
    },
    {
     "name": "stderr",
     "output_type": "stream",
     "text": [
      "\r",
      "          \r",
      "\r",
      "          \r",
      "  3%|▎         | 3/100 [00:02<01:21,  1.18it/s]\r",
      "  4%|▍         | 4/100 [00:10<04:10,  2.61s/it]"
     ]
    },
    {
     "name": "stdout",
     "output_type": "stream",
     "text": [
      "\n",
      "Epochs:4 TrainLoss:203.410547 ValLoss:203.453790"
     ]
    },
    {
     "name": "stderr",
     "output_type": "stream",
     "text": [
      "\r",
      "          \r",
      "\r",
      "          \r",
      "  4%|▍         | 4/100 [00:02<00:55,  1.74it/s]\r",
      "  5%|▌         | 5/100 [00:12<03:58,  2.52s/it]"
     ]
    },
    {
     "name": "stdout",
     "output_type": "stream",
     "text": [
      "\n",
      "Epochs:5 TrainLoss:201.071080 ValLoss:201.134408"
     ]
    },
    {
     "name": "stderr",
     "output_type": "stream",
     "text": [
      "\r",
      "          \r",
      "\r",
      "          \r",
      "  5%|▌         | 5/100 [00:02<00:40,  2.35it/s]\r",
      "  6%|▌         | 6/100 [00:14<03:45,  2.40s/it]"
     ]
    },
    {
     "name": "stdout",
     "output_type": "stream",
     "text": [
      "\n",
      "Epochs:6 TrainLoss:199.450632 ValLoss:199.674910"
     ]
    },
    {
     "name": "stderr",
     "output_type": "stream",
     "text": [
      "\r",
      "          \r",
      "\r",
      "          \r",
      "  6%|▌         | 6/100 [00:02<00:39,  2.37it/s]\r",
      "  7%|▋         | 7/100 [00:17<03:46,  2.44s/it]"
     ]
    },
    {
     "name": "stdout",
     "output_type": "stream",
     "text": [
      "\n",
      "Epochs:7 TrainLoss:199.350859 ValLoss:199.527303"
     ]
    },
    {
     "name": "stderr",
     "output_type": "stream",
     "text": [
      "\r",
      "          \r",
      "\r",
      "          \r",
      "  7%|▋         | 7/100 [00:02<00:31,  2.94it/s]\r",
      "  8%|▊         | 8/100 [00:19<03:42,  2.42s/it]"
     ]
    },
    {
     "name": "stdout",
     "output_type": "stream",
     "text": [
      "\n",
      "Epochs:8 TrainLoss:199.516809 ValLoss:199.841832"
     ]
    },
    {
     "name": "stderr",
     "output_type": "stream",
     "text": [
      "\r",
      "          \r",
      "\r",
      "          \r",
      "  8%|▊         | 8/100 [00:02<00:32,  2.86it/s]\r",
      "  9%|▉         | 9/100 [00:22<03:50,  2.53s/it]"
     ]
    },
    {
     "name": "stdout",
     "output_type": "stream",
     "text": [
      "\n",
      "Epochs:9 TrainLoss:197.943413 ValLoss:198.377277"
     ]
    },
    {
     "name": "stderr",
     "output_type": "stream",
     "text": [
      "\r",
      "          \r",
      "\r",
      "          \r",
      "  9%|▉         | 9/100 [00:02<00:24,  3.74it/s]\r",
      " 10%|█         | 10/100 [00:24<03:44,  2.50s/it]"
     ]
    },
    {
     "name": "stdout",
     "output_type": "stream",
     "text": [
      "\n",
      "Epochs:10 TrainLoss:193.500606 ValLoss:193.880153"
     ]
    },
    {
     "name": "stderr",
     "output_type": "stream",
     "text": [
      "\r",
      "          \r",
      "\r",
      "          \r",
      " 10%|█         | 10/100 [00:02<00:22,  4.08it/s]\r",
      " 11%|█         | 11/100 [00:27<03:40,  2.48s/it]"
     ]
    },
    {
     "name": "stdout",
     "output_type": "stream",
     "text": [
      "\n",
      "Epochs:11 TrainLoss:191.798305 ValLoss:192.161218"
     ]
    },
    {
     "name": "stderr",
     "output_type": "stream",
     "text": [
      "\r",
      "          \r",
      "\r",
      "          \r",
      " 11%|█         | 11/100 [00:02<00:20,  4.33it/s]\r",
      " 12%|█▏        | 12/100 [00:29<03:40,  2.50s/it]"
     ]
    },
    {
     "name": "stdout",
     "output_type": "stream",
     "text": [
      "\n",
      "Epochs:12 TrainLoss:190.622268 ValLoss:190.850147"
     ]
    },
    {
     "name": "stderr",
     "output_type": "stream",
     "text": [
      "\r",
      "          \r",
      "\r",
      "          \r",
      " 12%|█▏        | 12/100 [00:02<00:19,  4.42it/s]\r",
      " 13%|█▎        | 13/100 [00:32<03:43,  2.56s/it]"
     ]
    },
    {
     "name": "stdout",
     "output_type": "stream",
     "text": [
      "\n",
      "Epochs:13 TrainLoss:187.671386 ValLoss:188.134441"
     ]
    },
    {
     "name": "stderr",
     "output_type": "stream",
     "text": [
      "\r",
      "          \r",
      "\r",
      "          \r",
      " 13%|█▎        | 13/100 [00:02<00:17,  4.99it/s]\r",
      " 14%|█▍        | 14/100 [00:35<03:41,  2.58s/it]"
     ]
    },
    {
     "name": "stdout",
     "output_type": "stream",
     "text": [
      "\n",
      "Epochs:14 TrainLoss:186.020421 ValLoss:186.498069"
     ]
    },
    {
     "name": "stderr",
     "output_type": "stream",
     "text": [
      "\r",
      "          \r",
      "\r",
      "          \r",
      " 14%|█▍        | 14/100 [00:02<00:14,  5.89it/s]\r",
      " 15%|█▌        | 15/100 [00:37<03:33,  2.52s/it]"
     ]
    },
    {
     "name": "stdout",
     "output_type": "stream",
     "text": [
      "\n",
      "Epochs:15 TrainLoss:185.923043 ValLoss:186.658780"
     ]
    },
    {
     "name": "stderr",
     "output_type": "stream",
     "text": [
      "\r",
      "          \r",
      "\r",
      "          \r",
      " 15%|█▌        | 15/100 [00:02<00:13,  6.08it/s]\r",
      " 16%|█▌        | 16/100 [00:40<03:30,  2.50s/it]"
     ]
    },
    {
     "name": "stdout",
     "output_type": "stream",
     "text": [
      "\n",
      "Epochs:16 TrainLoss:182.395677 ValLoss:182.919571"
     ]
    },
    {
     "name": "stderr",
     "output_type": "stream",
     "text": [
      "\r",
      "          \r",
      "\r",
      "          \r",
      " 16%|█▌        | 16/100 [00:02<00:12,  6.92it/s]\r",
      " 17%|█▋        | 17/100 [00:42<03:22,  2.44s/it]"
     ]
    },
    {
     "name": "stdout",
     "output_type": "stream",
     "text": [
      "\n",
      "Epochs:17 TrainLoss:181.148829 ValLoss:181.791168"
     ]
    },
    {
     "name": "stderr",
     "output_type": "stream",
     "text": [
      "\r",
      "          \r",
      "\r",
      "          \r",
      " 17%|█▋        | 17/100 [00:02<00:12,  6.58it/s]\r",
      " 18%|█▊        | 18/100 [00:45<03:23,  2.49s/it]"
     ]
    },
    {
     "name": "stdout",
     "output_type": "stream",
     "text": [
      "\n",
      "Epochs:18 TrainLoss:180.312679 ValLoss:181.153309"
     ]
    },
    {
     "name": "stderr",
     "output_type": "stream",
     "text": [
      "\r",
      "          \r",
      "\r",
      "          \r",
      " 18%|█▊        | 18/100 [00:02<00:11,  6.99it/s]\r",
      " 19%|█▉        | 19/100 [00:47<03:23,  2.51s/it]"
     ]
    },
    {
     "name": "stdout",
     "output_type": "stream",
     "text": [
      "\n",
      "Epochs:19 TrainLoss:177.318204 ValLoss:177.849753"
     ]
    },
    {
     "name": "stderr",
     "output_type": "stream",
     "text": [
      "\r",
      "          \r",
      "\r",
      "          \r",
      " 19%|█▉        | 19/100 [00:02<00:09,  8.26it/s]\r",
      " 20%|██        | 20/100 [00:49<03:15,  2.45s/it]"
     ]
    },
    {
     "name": "stdout",
     "output_type": "stream",
     "text": [
      "\n",
      "Epochs:20 TrainLoss:176.182576 ValLoss:176.739917"
     ]
    },
    {
     "name": "stderr",
     "output_type": "stream",
     "text": [
      "\r",
      "          \r",
      "\r",
      "          \r",
      " 20%|██        | 20/100 [00:02<00:08,  9.17it/s]\r",
      " 21%|██        | 21/100 [00:52<03:07,  2.37s/it]"
     ]
    },
    {
     "name": "stdout",
     "output_type": "stream",
     "text": [
      "\n",
      "Epochs:21 TrainLoss:176.443741 ValLoss:177.149187"
     ]
    },
    {
     "name": "stderr",
     "output_type": "stream",
     "text": [
      "\r",
      "          \r",
      "\r",
      "          \r",
      " 21%|██        | 21/100 [00:02<00:10,  7.89it/s]\r",
      " 22%|██▏       | 22/100 [00:54<03:11,  2.46s/it]"
     ]
    },
    {
     "name": "stdout",
     "output_type": "stream",
     "text": [
      "\n",
      "Epochs:22 TrainLoss:173.256776 ValLoss:174.008530"
     ]
    },
    {
     "name": "stderr",
     "output_type": "stream",
     "text": [
      "\r",
      "          \r",
      "\r",
      "          \r",
      " 22%|██▏       | 22/100 [00:02<00:09,  8.09it/s]\r",
      " 23%|██▎       | 23/100 [00:57<03:15,  2.54s/it]"
     ]
    },
    {
     "name": "stdout",
     "output_type": "stream",
     "text": [
      "\n",
      "Epochs:23 TrainLoss:171.837548 ValLoss:172.713984"
     ]
    },
    {
     "name": "stderr",
     "output_type": "stream",
     "text": [
      "\r",
      "          \r",
      "\r",
      "          \r",
      " 23%|██▎       | 23/100 [00:02<00:08,  9.23it/s]\r",
      " 24%|██▍       | 24/100 [00:59<03:11,  2.52s/it]"
     ]
    },
    {
     "name": "stdout",
     "output_type": "stream",
     "text": [
      "\n",
      "Epochs:24 TrainLoss:170.603435 ValLoss:171.500353"
     ]
    },
    {
     "name": "stderr",
     "output_type": "stream",
     "text": [
      "\r",
      "          \r",
      "\r",
      "          \r",
      " 24%|██▍       | 24/100 [00:03<00:09,  7.93it/s]\r",
      " 25%|██▌       | 25/100 [01:02<03:20,  2.67s/it]"
     ]
    },
    {
     "name": "stdout",
     "output_type": "stream",
     "text": [
      "\n",
      "Epochs:25 TrainLoss:169.218973 ValLoss:170.087830"
     ]
    },
    {
     "name": "stderr",
     "output_type": "stream",
     "text": [
      "\r",
      "          \r",
      "\r",
      "          \r",
      " 25%|██▌       | 25/100 [00:02<00:08,  8.70it/s]\r",
      " 26%|██▌       | 26/100 [01:05<03:22,  2.73s/it]"
     ]
    },
    {
     "name": "stdout",
     "output_type": "stream",
     "text": [
      "\n",
      "Epochs:26 TrainLoss:168.037436 ValLoss:169.040255"
     ]
    },
    {
     "name": "stderr",
     "output_type": "stream",
     "text": [
      "\r",
      "          \r",
      "\r",
      "          \r",
      " 26%|██▌       | 26/100 [00:02<00:08,  8.72it/s]\r",
      " 27%|██▋       | 27/100 [01:08<03:25,  2.81s/it]"
     ]
    },
    {
     "name": "stdout",
     "output_type": "stream",
     "text": [
      "\n",
      "Epochs:27 TrainLoss:166.834188 ValLoss:167.865858"
     ]
    },
    {
     "name": "stderr",
     "output_type": "stream",
     "text": [
      "\r",
      "          \r",
      "\r",
      "          \r",
      " 27%|██▋       | 27/100 [00:02<00:07, 10.21it/s]\r",
      " 28%|██▊       | 28/100 [01:11<03:18,  2.76s/it]"
     ]
    },
    {
     "name": "stdout",
     "output_type": "stream",
     "text": [
      "\n",
      "Epochs:28 TrainLoss:165.624392 ValLoss:166.749632"
     ]
    },
    {
     "name": "stderr",
     "output_type": "stream",
     "text": [
      "\r",
      "          \r",
      "\r",
      "          \r",
      " 28%|██▊       | 28/100 [00:02<00:06, 11.26it/s]\r",
      " 29%|██▉       | 29/100 [01:13<03:10,  2.68s/it]"
     ]
    },
    {
     "name": "stdout",
     "output_type": "stream",
     "text": [
      "\n",
      "Epochs:29 TrainLoss:164.507673 ValLoss:165.422305"
     ]
    },
    {
     "name": "stderr",
     "output_type": "stream",
     "text": [
      "\r",
      "          \r",
      "\r",
      "          \r",
      " 29%|██▉       | 29/100 [00:02<00:06, 10.23it/s]\r",
      " 30%|███       | 30/100 [01:16<03:10,  2.72s/it]"
     ]
    },
    {
     "name": "stdout",
     "output_type": "stream",
     "text": [
      "\n",
      "Epochs:30 TrainLoss:163.618865 ValLoss:164.660257"
     ]
    },
    {
     "name": "stderr",
     "output_type": "stream",
     "text": [
      "\r",
      "          \r",
      "\r",
      "          \r",
      " 30%|███       | 30/100 [00:02<00:06, 11.26it/s]\r",
      " 31%|███       | 31/100 [01:19<03:06,  2.71s/it]"
     ]
    },
    {
     "name": "stdout",
     "output_type": "stream",
     "text": [
      "\n",
      "Epochs:31 TrainLoss:162.606751 ValLoss:163.815939"
     ]
    },
    {
     "name": "stderr",
     "output_type": "stream",
     "text": [
      "\r",
      "          \r",
      "\r",
      "          \r",
      " 31%|███       | 31/100 [00:02<00:05, 11.63it/s]\r",
      " 32%|███▏      | 32/100 [01:22<03:03,  2.69s/it]"
     ]
    },
    {
     "name": "stdout",
     "output_type": "stream",
     "text": [
      "\n",
      "Epochs:32 TrainLoss:161.757859 ValLoss:162.875672"
     ]
    },
    {
     "name": "stderr",
     "output_type": "stream",
     "text": [
      "\r",
      "          \r",
      "\r",
      "          \r",
      " 32%|███▏      | 32/100 [00:02<00:05, 11.34it/s]\r",
      " 33%|███▎      | 33/100 [01:24<03:03,  2.73s/it]"
     ]
    },
    {
     "name": "stdout",
     "output_type": "stream",
     "text": [
      "\n",
      "Epochs:33 TrainLoss:160.768892 ValLoss:162.114830"
     ]
    },
    {
     "name": "stderr",
     "output_type": "stream",
     "text": [
      "\r",
      "          \r",
      "\r",
      "          \r",
      " 33%|███▎      | 33/100 [00:02<00:05, 12.54it/s]\r",
      " 34%|███▍      | 34/100 [01:27<02:58,  2.70s/it]"
     ]
    },
    {
     "name": "stdout",
     "output_type": "stream",
     "text": [
      "\n",
      "Epochs:34 TrainLoss:160.149277 ValLoss:161.389780"
     ]
    },
    {
     "name": "stderr",
     "output_type": "stream",
     "text": [
      "\r",
      "          \r",
      "\r",
      "          \r",
      " 34%|███▍      | 34/100 [00:02<00:04, 13.30it/s]\r",
      " 35%|███▌      | 35/100 [01:30<02:52,  2.66s/it]"
     ]
    },
    {
     "name": "stdout",
     "output_type": "stream",
     "text": [
      "\n",
      "Epochs:35 TrainLoss:159.234707 ValLoss:160.466159"
     ]
    },
    {
     "name": "stderr",
     "output_type": "stream",
     "text": [
      "\r",
      "          \r",
      "\r",
      "          \r",
      " 35%|███▌      | 35/100 [00:02<00:05, 12.26it/s]\r",
      " 36%|███▌      | 36/100 [01:32<02:53,  2.72s/it]"
     ]
    },
    {
     "name": "stdout",
     "output_type": "stream",
     "text": [
      "\n",
      "Epochs:36 TrainLoss:158.566355 ValLoss:159.816452"
     ]
    },
    {
     "name": "stderr",
     "output_type": "stream",
     "text": [
      "\r",
      "          \r",
      "\r",
      "          \r",
      " 36%|███▌      | 36/100 [00:02<00:04, 13.56it/s]\r",
      " 37%|███▋      | 37/100 [01:35<02:49,  2.70s/it]"
     ]
    },
    {
     "name": "stdout",
     "output_type": "stream",
     "text": [
      "\n",
      "Epochs:37 TrainLoss:157.894559 ValLoss:159.283024"
     ]
    },
    {
     "name": "stderr",
     "output_type": "stream",
     "text": [
      "\r",
      "          \r",
      "\r",
      "          \r",
      " 37%|███▋      | 37/100 [00:02<00:03, 16.44it/s]\r",
      " 38%|███▊      | 38/100 [01:37<02:38,  2.56s/it]"
     ]
    },
    {
     "name": "stdout",
     "output_type": "stream",
     "text": [
      "\n",
      "Epochs:38 TrainLoss:157.013774 ValLoss:158.385079"
     ]
    },
    {
     "name": "stderr",
     "output_type": "stream",
     "text": [
      "\r",
      "          \r",
      "\r",
      "          \r",
      " 38%|███▊      | 38/100 [00:02<00:04, 14.63it/s]\r",
      " 39%|███▉      | 39/100 [01:40<02:37,  2.57s/it]"
     ]
    },
    {
     "name": "stdout",
     "output_type": "stream",
     "text": [
      "\n",
      "Epochs:39 TrainLoss:156.422295 ValLoss:157.784120"
     ]
    },
    {
     "name": "stderr",
     "output_type": "stream",
     "text": [
      "\r",
      "          \r",
      "\r",
      "          \r",
      " 39%|███▉      | 39/100 [00:02<00:03, 15.72it/s]\r",
      " 40%|████      | 40/100 [01:42<02:32,  2.55s/it]"
     ]
    },
    {
     "name": "stdout",
     "output_type": "stream",
     "text": [
      "\n",
      "Epochs:40 TrainLoss:155.754211 ValLoss:157.389875"
     ]
    },
    {
     "name": "stderr",
     "output_type": "stream",
     "text": [
      "\r",
      "          \r",
      "\r",
      "          \r",
      " 40%|████      | 40/100 [00:02<00:03, 19.57it/s]\r",
      " 41%|████      | 41/100 [01:45<02:21,  2.40s/it]"
     ]
    },
    {
     "name": "stdout",
     "output_type": "stream",
     "text": [
      "\n",
      "Epochs:41 TrainLoss:155.438125 ValLoss:156.861428"
     ]
    },
    {
     "name": "stderr",
     "output_type": "stream",
     "text": [
      "\r",
      "          \r",
      "\r",
      "          \r",
      " 41%|████      | 41/100 [00:02<00:03, 16.23it/s]\r",
      " 42%|████▏     | 42/100 [01:47<02:21,  2.43s/it]"
     ]
    },
    {
     "name": "stdout",
     "output_type": "stream",
     "text": [
      "\n",
      "Epochs:42 TrainLoss:154.772065 ValLoss:156.375128"
     ]
    },
    {
     "name": "stderr",
     "output_type": "stream",
     "text": [
      "\r",
      "          \r",
      "\r",
      "          \r",
      " 42%|████▏     | 42/100 [00:02<00:03, 15.90it/s]\r",
      " 43%|████▎     | 43/100 [01:50<02:22,  2.50s/it]"
     ]
    },
    {
     "name": "stdout",
     "output_type": "stream",
     "text": [
      "\n",
      "Epochs:43 TrainLoss:154.302050 ValLoss:155.808909"
     ]
    },
    {
     "name": "stderr",
     "output_type": "stream",
     "text": [
      "\r",
      "          \r",
      "\r",
      "          \r",
      " 43%|████▎     | 43/100 [00:02<00:03, 15.99it/s]\r",
      " 44%|████▍     | 44/100 [01:52<02:23,  2.55s/it]"
     ]
    },
    {
     "name": "stdout",
     "output_type": "stream",
     "text": [
      "\n",
      "Epochs:44 TrainLoss:153.722112 ValLoss:155.306442"
     ]
    },
    {
     "name": "stderr",
     "output_type": "stream",
     "text": [
      "\r",
      "          \r",
      "\r",
      "          \r",
      " 44%|████▍     | 44/100 [00:02<00:03, 17.34it/s]\r",
      " 45%|████▌     | 45/100 [01:55<02:20,  2.55s/it]"
     ]
    },
    {
     "name": "stdout",
     "output_type": "stream",
     "text": [
      "\n",
      "Epochs:45 TrainLoss:153.304215 ValLoss:155.013585"
     ]
    },
    {
     "name": "stderr",
     "output_type": "stream",
     "text": [
      "\r",
      "          \r",
      "\r",
      "          \r",
      " 45%|████▌     | 45/100 [00:02<00:03, 16.20it/s]\r",
      " 46%|████▌     | 46/100 [01:58<02:21,  2.62s/it]"
     ]
    },
    {
     "name": "stdout",
     "output_type": "stream",
     "text": [
      "\n",
      "Epochs:46 TrainLoss:152.802437 ValLoss:154.379982"
     ]
    },
    {
     "name": "stderr",
     "output_type": "stream",
     "text": [
      "\r",
      "          \r",
      "\r",
      "          \r",
      " 46%|████▌     | 46/100 [00:02<00:03, 17.38it/s]\r",
      " 47%|████▋     | 47/100 [02:00<02:19,  2.63s/it]"
     ]
    },
    {
     "name": "stdout",
     "output_type": "stream",
     "text": [
      "\n",
      "Epochs:47 TrainLoss:152.259912 ValLoss:153.971009"
     ]
    },
    {
     "name": "stderr",
     "output_type": "stream",
     "text": [
      "\r",
      "          \r",
      "\r",
      "          \r",
      " 47%|████▋     | 47/100 [00:02<00:02, 18.04it/s]\r",
      " 48%|████▊     | 48/100 [02:03<02:16,  2.62s/it]"
     ]
    },
    {
     "name": "stdout",
     "output_type": "stream",
     "text": [
      "\n",
      "Epochs:48 TrainLoss:151.811290 ValLoss:153.389563"
     ]
    },
    {
     "name": "stderr",
     "output_type": "stream",
     "text": [
      "\r",
      "          \r",
      "\r",
      "          \r",
      " 48%|████▊     | 48/100 [00:02<00:02, 19.68it/s]\r",
      " 49%|████▉     | 49/100 [02:05<02:10,  2.57s/it]"
     ]
    },
    {
     "name": "stdout",
     "output_type": "stream",
     "text": [
      "\n",
      "Epochs:49 TrainLoss:151.219578 ValLoss:152.868005"
     ]
    },
    {
     "name": "stderr",
     "output_type": "stream",
     "text": [
      "\r",
      "          \r",
      "\r",
      "          \r",
      " 49%|████▉     | 49/100 [00:02<00:02, 19.93it/s]\r",
      " 50%|█████     | 50/100 [02:08<02:06,  2.53s/it]"
     ]
    },
    {
     "name": "stdout",
     "output_type": "stream",
     "text": [
      "\n",
      "Epochs:50 TrainLoss:150.669559 ValLoss:152.493432"
     ]
    },
    {
     "name": "stderr",
     "output_type": "stream",
     "text": [
      "\r",
      "          \r",
      "\r",
      "          \r",
      " 50%|█████     | 50/100 [00:02<00:02, 18.90it/s]\r",
      " 51%|█████     | 51/100 [02:10<02:05,  2.57s/it]"
     ]
    },
    {
     "name": "stdout",
     "output_type": "stream",
     "text": [
      "\n",
      "Epochs:51 TrainLoss:150.358278 ValLoss:152.013586"
     ]
    },
    {
     "name": "stderr",
     "output_type": "stream",
     "text": [
      "\r",
      "          \r",
      "\r",
      "          \r",
      " 51%|█████     | 51/100 [00:02<00:02, 19.74it/s]\r",
      " 52%|█████▏    | 52/100 [02:13<02:03,  2.57s/it]"
     ]
    },
    {
     "name": "stdout",
     "output_type": "stream",
     "text": [
      "\n",
      "Epochs:52 TrainLoss:150.034109 ValLoss:151.739116"
     ]
    },
    {
     "name": "stderr",
     "output_type": "stream",
     "text": [
      "\r",
      "          \r",
      "\r",
      "          \r",
      " 52%|█████▏    | 52/100 [00:02<00:02, 21.15it/s]\r",
      " 53%|█████▎    | 53/100 [02:16<01:59,  2.54s/it]"
     ]
    },
    {
     "name": "stdout",
     "output_type": "stream",
     "text": [
      "\n",
      "Epochs:53 TrainLoss:149.516930 ValLoss:151.097744"
     ]
    },
    {
     "name": "stderr",
     "output_type": "stream",
     "text": [
      "\r",
      "          \r",
      "\r",
      "          \r",
      " 53%|█████▎    | 53/100 [00:02<00:02, 21.08it/s]\r",
      " 54%|█████▍    | 54/100 [02:18<01:56,  2.53s/it]"
     ]
    },
    {
     "name": "stdout",
     "output_type": "stream",
     "text": [
      "\n",
      "Epochs:54 TrainLoss:149.120480 ValLoss:150.949694"
     ]
    },
    {
     "name": "stderr",
     "output_type": "stream",
     "text": [
      "\r",
      "          \r",
      "\r",
      "          \r",
      " 54%|█████▍    | 54/100 [00:03<00:02, 17.34it/s]\r",
      " 55%|█████▌    | 55/100 [02:21<02:01,  2.71s/it]"
     ]
    },
    {
     "name": "stdout",
     "output_type": "stream",
     "text": [
      "\n",
      "Epochs:55 TrainLoss:148.785829 ValLoss:150.515863"
     ]
    },
    {
     "name": "stderr",
     "output_type": "stream",
     "text": [
      "\r",
      "          \r",
      "\r",
      "          \r",
      " 55%|█████▌    | 55/100 [00:02<00:02, 19.73it/s]\r",
      " 56%|█████▌    | 56/100 [02:24<02:00,  2.73s/it]"
     ]
    },
    {
     "name": "stdout",
     "output_type": "stream",
     "text": [
      "\n",
      "Epochs:56 TrainLoss:148.402217 ValLoss:150.148596"
     ]
    },
    {
     "name": "stderr",
     "output_type": "stream",
     "text": [
      "\r",
      "          \r",
      "\r",
      "          \r",
      " 56%|█████▌    | 56/100 [00:02<00:02, 20.85it/s]\r",
      " 57%|█████▋    | 57/100 [02:27<01:56,  2.72s/it]"
     ]
    },
    {
     "name": "stdout",
     "output_type": "stream",
     "text": [
      "\n",
      "Epochs:57 TrainLoss:148.124409 ValLoss:149.731421"
     ]
    },
    {
     "name": "stderr",
     "output_type": "stream",
     "text": [
      "\r",
      "          \r",
      "\r",
      "          \r",
      " 57%|█████▋    | 57/100 [00:02<00:01, 24.36it/s]\r",
      " 58%|█████▊    | 58/100 [02:29<01:49,  2.60s/it]"
     ]
    },
    {
     "name": "stdout",
     "output_type": "stream",
     "text": [
      "\n",
      "Epochs:58 TrainLoss:147.768179 ValLoss:149.446250"
     ]
    },
    {
     "name": "stderr",
     "output_type": "stream",
     "text": [
      "\r",
      "          \r",
      "\r",
      "          \r",
      " 58%|█████▊    | 58/100 [00:02<00:01, 21.99it/s]\r",
      " 59%|█████▉    | 59/100 [02:32<01:47,  2.61s/it]"
     ]
    },
    {
     "name": "stdout",
     "output_type": "stream",
     "text": [
      "\n",
      "Epochs:59 TrainLoss:147.369738 ValLoss:149.051664"
     ]
    },
    {
     "name": "stderr",
     "output_type": "stream",
     "text": [
      "\r",
      "          \r",
      "\r",
      "          \r",
      " 59%|█████▉    | 59/100 [00:02<00:01, 21.76it/s]\r",
      " 60%|██████    | 60/100 [02:34<01:45,  2.64s/it]"
     ]
    },
    {
     "name": "stdout",
     "output_type": "stream",
     "text": [
      "\n",
      "Epochs:60 TrainLoss:146.983623 ValLoss:148.685189"
     ]
    },
    {
     "name": "stderr",
     "output_type": "stream",
     "text": [
      "\r",
      "          \r",
      "\r",
      "          \r",
      " 60%|██████    | 60/100 [00:02<00:01, 22.76it/s]\r",
      " 61%|██████    | 61/100 [02:37<01:43,  2.64s/it]"
     ]
    },
    {
     "name": "stdout",
     "output_type": "stream",
     "text": [
      "\n",
      "Epochs:61 TrainLoss:146.627284 ValLoss:148.396969"
     ]
    },
    {
     "name": "stderr",
     "output_type": "stream",
     "text": [
      "\r",
      "          \r",
      "\r",
      "          \r",
      " 61%|██████    | 61/100 [00:02<00:01, 25.04it/s]\r",
      " 62%|██████▏   | 62/100 [02:39<01:38,  2.58s/it]"
     ]
    },
    {
     "name": "stdout",
     "output_type": "stream",
     "text": [
      "\n",
      "Epochs:62 TrainLoss:146.263723 ValLoss:148.065304"
     ]
    },
    {
     "name": "stderr",
     "output_type": "stream",
     "text": [
      "\r",
      "          \r",
      "\r",
      "          \r",
      " 62%|██████▏   | 62/100 [00:02<00:01, 23.34it/s]\r",
      " 63%|██████▎   | 63/100 [02:42<01:36,  2.60s/it]"
     ]
    },
    {
     "name": "stdout",
     "output_type": "stream",
     "text": [
      "\n",
      "Epochs:63 TrainLoss:146.065130 ValLoss:147.842762"
     ]
    },
    {
     "name": "stderr",
     "output_type": "stream",
     "text": [
      "\r",
      "          \r",
      "\r",
      "          \r",
      " 63%|██████▎   | 63/100 [00:02<00:01, 28.24it/s]\r",
      " 64%|██████▍   | 64/100 [02:44<01:29,  2.49s/it]"
     ]
    },
    {
     "name": "stdout",
     "output_type": "stream",
     "text": [
      "\n",
      "Epochs:64 TrainLoss:145.693906 ValLoss:147.528392"
     ]
    },
    {
     "name": "stderr",
     "output_type": "stream",
     "text": [
      "\r",
      "          \r",
      "\r",
      "          \r",
      " 64%|██████▍   | 64/100 [00:02<00:01, 23.90it/s]\r",
      " 65%|██████▌   | 65/100 [02:47<01:29,  2.55s/it]"
     ]
    },
    {
     "name": "stdout",
     "output_type": "stream",
     "text": [
      "\n",
      "Epochs:65 TrainLoss:145.506646 ValLoss:147.271394"
     ]
    },
    {
     "name": "stderr",
     "output_type": "stream",
     "text": [
      "\r",
      "          \r",
      "\r",
      "          \r",
      " 65%|██████▌   | 65/100 [00:02<00:01, 23.04it/s]\r",
      " 66%|██████▌   | 66/100 [02:50<01:29,  2.63s/it]"
     ]
    },
    {
     "name": "stdout",
     "output_type": "stream",
     "text": [
      "\n",
      "Epochs:66 TrainLoss:145.020886 ValLoss:146.868129"
     ]
    },
    {
     "name": "stderr",
     "output_type": "stream",
     "text": [
      "\r",
      "          \r",
      "\r",
      "          \r",
      " 66%|██████▌   | 66/100 [00:02<00:01, 27.90it/s]\r",
      " 67%|██████▋   | 67/100 [02:52<01:24,  2.55s/it]"
     ]
    },
    {
     "name": "stdout",
     "output_type": "stream",
     "text": [
      "\n",
      "Epochs:67 TrainLoss:144.708308 ValLoss:146.505689"
     ]
    },
    {
     "name": "stderr",
     "output_type": "stream",
     "text": [
      "\r",
      "          \r",
      "\r",
      "          \r",
      " 67%|██████▋   | 67/100 [00:02<00:01, 31.97it/s]\r",
      " 68%|██████▊   | 68/100 [02:54<01:17,  2.41s/it]"
     ]
    },
    {
     "name": "stdout",
     "output_type": "stream",
     "text": [
      "\n",
      "Epochs:68 TrainLoss:144.405075 ValLoss:146.584302"
     ]
    },
    {
     "name": "stderr",
     "output_type": "stream",
     "text": [
      "\r",
      "          \r",
      "\r",
      "          \r",
      " 68%|██████▊   | 68/100 [00:02<00:01, 27.68it/s]\r",
      " 69%|██████▉   | 69/100 [02:57<01:15,  2.43s/it]"
     ]
    },
    {
     "name": "stdout",
     "output_type": "stream",
     "text": [
      "\n",
      "Epochs:69 TrainLoss:144.127109 ValLoss:145.984726"
     ]
    },
    {
     "name": "stderr",
     "output_type": "stream",
     "text": [
      "\r",
      "          \r",
      "\r",
      "          \r",
      " 69%|██████▉   | 69/100 [00:02<00:01, 30.88it/s]\r",
      " 70%|███████   | 70/100 [02:59<01:11,  2.37s/it]"
     ]
    },
    {
     "name": "stdout",
     "output_type": "stream",
     "text": [
      "\n",
      "Epochs:70 TrainLoss:143.883953 ValLoss:145.885920"
     ]
    },
    {
     "name": "stderr",
     "output_type": "stream",
     "text": [
      "\r",
      "          \r",
      "\r",
      "          \r",
      " 70%|███████   | 70/100 [00:02<00:01, 27.32it/s]\r",
      " 71%|███████   | 71/100 [03:01<01:10,  2.43s/it]"
     ]
    },
    {
     "name": "stdout",
     "output_type": "stream",
     "text": [
      "\n",
      "Epochs:71 TrainLoss:143.595522 ValLoss:145.567250"
     ]
    },
    {
     "name": "stderr",
     "output_type": "stream",
     "text": [
      "\r",
      "          \r",
      "\r",
      "          \r",
      " 71%|███████   | 71/100 [00:02<00:01, 28.00it/s]\r",
      " 72%|███████▏  | 72/100 [03:04<01:08,  2.46s/it]"
     ]
    },
    {
     "name": "stdout",
     "output_type": "stream",
     "text": [
      "\n",
      "Epochs:72 TrainLoss:143.294074 ValLoss:145.333252"
     ]
    },
    {
     "name": "stderr",
     "output_type": "stream",
     "text": [
      "\r",
      "          \r",
      "\r",
      "          \r",
      " 72%|███████▏  | 72/100 [00:02<00:01, 27.66it/s]\r",
      " 73%|███████▎  | 73/100 [03:07<01:07,  2.50s/it]"
     ]
    },
    {
     "name": "stdout",
     "output_type": "stream",
     "text": [
      "\n",
      "Epochs:73 TrainLoss:142.976585 ValLoss:144.831580"
     ]
    },
    {
     "name": "stderr",
     "output_type": "stream",
     "text": [
      "\r",
      "          \r",
      "\r",
      "          \r",
      " 73%|███████▎  | 73/100 [00:02<00:00, 28.05it/s]\r",
      " 74%|███████▍  | 74/100 [03:09<01:05,  2.53s/it]"
     ]
    },
    {
     "name": "stdout",
     "output_type": "stream",
     "text": [
      "\n",
      "Epochs:74 TrainLoss:142.840265 ValLoss:144.777583"
     ]
    },
    {
     "name": "stderr",
     "output_type": "stream",
     "text": [
      "\r",
      "          \r",
      "\r",
      "          \r",
      " 74%|███████▍  | 74/100 [00:02<00:00, 29.83it/s]\r",
      " 75%|███████▌  | 75/100 [03:12<01:02,  2.52s/it]"
     ]
    },
    {
     "name": "stdout",
     "output_type": "stream",
     "text": [
      "\n",
      "Epochs:75 TrainLoss:142.433635 ValLoss:144.398689"
     ]
    },
    {
     "name": "stderr",
     "output_type": "stream",
     "text": [
      "\r",
      "          \r",
      "\r",
      "          \r",
      " 75%|███████▌  | 75/100 [00:02<00:00, 30.99it/s]\r",
      " 76%|███████▌  | 76/100 [03:14<00:59,  2.49s/it]"
     ]
    },
    {
     "name": "stdout",
     "output_type": "stream",
     "text": [
      "\n",
      "Epochs:76 TrainLoss:142.376379 ValLoss:144.234340"
     ]
    },
    {
     "name": "stderr",
     "output_type": "stream",
     "text": [
      "\r",
      "          \r",
      "\r",
      "          \r",
      " 76%|███████▌  | 76/100 [00:02<00:00, 31.26it/s]\r",
      " 77%|███████▋  | 77/100 [03:17<00:56,  2.47s/it]"
     ]
    },
    {
     "name": "stdout",
     "output_type": "stream",
     "text": [
      "\n",
      "Epochs:77 TrainLoss:142.045319 ValLoss:144.056365"
     ]
    },
    {
     "name": "stderr",
     "output_type": "stream",
     "text": [
      "\r",
      "          \r",
      "\r",
      "          \r",
      " 77%|███████▋  | 77/100 [00:02<00:00, 31.08it/s]\r",
      " 78%|███████▊  | 78/100 [03:19<00:54,  2.47s/it]"
     ]
    },
    {
     "name": "stdout",
     "output_type": "stream",
     "text": [
      "\n",
      "Epochs:78 TrainLoss:141.655963 ValLoss:143.670826"
     ]
    },
    {
     "name": "stderr",
     "output_type": "stream",
     "text": [
      "\r",
      "          \r",
      "\r",
      "          \r",
      " 78%|███████▊  | 78/100 [00:02<00:00, 32.14it/s]\r",
      " 79%|███████▉  | 79/100 [03:21<00:51,  2.46s/it]"
     ]
    },
    {
     "name": "stdout",
     "output_type": "stream",
     "text": [
      "\n",
      "Epochs:79 TrainLoss:141.510593 ValLoss:143.501520"
     ]
    },
    {
     "name": "stderr",
     "output_type": "stream",
     "text": [
      "\r",
      "          \r",
      "\r",
      "          \r",
      " 79%|███████▉  | 79/100 [00:02<00:00, 31.20it/s]\r",
      " 80%|████████  | 80/100 [03:24<00:49,  2.48s/it]"
     ]
    },
    {
     "name": "stdout",
     "output_type": "stream",
     "text": [
      "\n",
      "Epochs:80 TrainLoss:141.137320 ValLoss:143.094501"
     ]
    },
    {
     "name": "stderr",
     "output_type": "stream",
     "text": [
      "\r",
      "          \r",
      "\r",
      "          \r",
      " 80%|████████  | 80/100 [00:02<00:00, 33.58it/s]\r",
      " 81%|████████  | 81/100 [03:26<00:46,  2.45s/it]"
     ]
    },
    {
     "name": "stdout",
     "output_type": "stream",
     "text": [
      "\n",
      "Epochs:81 TrainLoss:140.856066 ValLoss:142.937286"
     ]
    },
    {
     "name": "stderr",
     "output_type": "stream",
     "text": [
      "\r",
      "          \r",
      "\r",
      "          \r",
      " 81%|████████  | 81/100 [00:02<00:00, 34.32it/s]\r",
      " 82%|████████▏ | 82/100 [03:29<00:43,  2.42s/it]"
     ]
    },
    {
     "name": "stdout",
     "output_type": "stream",
     "text": [
      "\n",
      "Epochs:82 TrainLoss:140.674532 ValLoss:142.808629"
     ]
    },
    {
     "name": "stderr",
     "output_type": "stream",
     "text": [
      "\r",
      "          \r",
      "\r",
      "          \r",
      " 82%|████████▏ | 82/100 [00:02<00:00, 38.26it/s]\r",
      " 83%|████████▎ | 83/100 [03:31<00:39,  2.34s/it]"
     ]
    },
    {
     "name": "stdout",
     "output_type": "stream",
     "text": [
      "\n",
      "Epochs:83 TrainLoss:140.536546 ValLoss:142.466925"
     ]
    },
    {
     "name": "stderr",
     "output_type": "stream",
     "text": [
      "\r",
      "          \r",
      "\r",
      "          \r",
      " 83%|████████▎ | 83/100 [00:02<00:00, 34.87it/s]\r",
      " 84%|████████▍ | 84/100 [03:33<00:37,  2.35s/it]"
     ]
    },
    {
     "name": "stdout",
     "output_type": "stream",
     "text": [
      "\n",
      "Epochs:84 TrainLoss:140.327491 ValLoss:142.373181"
     ]
    },
    {
     "name": "stderr",
     "output_type": "stream",
     "text": [
      "\r",
      "          \r",
      "\r",
      "          \r",
      " 84%|████████▍ | 84/100 [00:02<00:00, 37.79it/s]\r",
      " 85%|████████▌ | 85/100 [03:35<00:34,  2.31s/it]"
     ]
    },
    {
     "name": "stdout",
     "output_type": "stream",
     "text": [
      "\n",
      "Epochs:85 TrainLoss:140.024388 ValLoss:142.139218"
     ]
    },
    {
     "name": "stderr",
     "output_type": "stream",
     "text": [
      "\r",
      "          \r",
      "\r",
      "          \r",
      " 85%|████████▌ | 85/100 [00:02<00:00, 34.97it/s]\r",
      " 86%|████████▌ | 86/100 [03:38<00:32,  2.35s/it]"
     ]
    },
    {
     "name": "stdout",
     "output_type": "stream",
     "text": [
      "\n",
      "Epochs:86 TrainLoss:139.701764 ValLoss:141.874368"
     ]
    },
    {
     "name": "stderr",
     "output_type": "stream",
     "text": [
      "\r",
      "          \r",
      "\r",
      "          \r",
      " 86%|████████▌ | 86/100 [00:02<00:00, 30.37it/s]\r",
      " 87%|████████▋ | 87/100 [03:41<00:32,  2.49s/it]"
     ]
    },
    {
     "name": "stdout",
     "output_type": "stream",
     "text": [
      "\n",
      "Epochs:87 TrainLoss:139.575597 ValLoss:141.786696"
     ]
    },
    {
     "name": "stderr",
     "output_type": "stream",
     "text": [
      "\r",
      "          \r",
      "\r",
      "          \r",
      " 87%|████████▋ | 87/100 [00:02<00:00, 36.37it/s]\r",
      " 88%|████████▊ | 88/100 [03:43<00:29,  2.46s/it]"
     ]
    },
    {
     "name": "stdout",
     "output_type": "stream",
     "text": [
      "\n",
      "Epochs:88 TrainLoss:139.331539 ValLoss:141.410332"
     ]
    },
    {
     "name": "stderr",
     "output_type": "stream",
     "text": [
      "\r",
      "          \r",
      "\r",
      "          \r",
      " 88%|████████▊ | 88/100 [00:02<00:00, 33.37it/s]\r",
      " 89%|████████▉ | 89/100 [03:46<00:27,  2.52s/it]"
     ]
    },
    {
     "name": "stdout",
     "output_type": "stream",
     "text": [
      "\n",
      "Epochs:89 TrainLoss:139.134262 ValLoss:141.137301"
     ]
    },
    {
     "name": "stderr",
     "output_type": "stream",
     "text": [
      "\r",
      "          \r",
      "\r",
      "          \r",
      " 89%|████████▉ | 89/100 [00:02<00:00, 39.00it/s]\r",
      " 90%|█████████ | 90/100 [03:48<00:24,  2.45s/it]"
     ]
    },
    {
     "name": "stdout",
     "output_type": "stream",
     "text": [
      "\n",
      "Epochs:90 TrainLoss:138.975733 ValLoss:141.071809"
     ]
    },
    {
     "name": "stderr",
     "output_type": "stream",
     "text": [
      "\r",
      "          \r",
      "\r",
      "          \r",
      " 90%|█████████ | 90/100 [00:02<00:00, 35.35it/s]\r",
      " 91%|█████████ | 91/100 [03:51<00:22,  2.48s/it]"
     ]
    },
    {
     "name": "stdout",
     "output_type": "stream",
     "text": [
      "\n",
      "Epochs:91 TrainLoss:138.816804 ValLoss:140.702656"
     ]
    },
    {
     "name": "stderr",
     "output_type": "stream",
     "text": [
      "\r",
      "          \r",
      "\r",
      "          \r",
      " 91%|█████████ | 91/100 [00:02<00:00, 35.15it/s]\r",
      " 92%|█████████▏| 92/100 [03:53<00:20,  2.51s/it]"
     ]
    },
    {
     "name": "stdout",
     "output_type": "stream",
     "text": [
      "\n",
      "Epochs:92 TrainLoss:138.612229 ValLoss:140.641163"
     ]
    },
    {
     "name": "stderr",
     "output_type": "stream",
     "text": [
      "\r",
      "          \r",
      "\r",
      "          \r",
      " 92%|█████████▏| 92/100 [00:02<00:00, 38.64it/s]\r",
      " 93%|█████████▎| 93/100 [03:56<00:17,  2.47s/it]"
     ]
    },
    {
     "name": "stdout",
     "output_type": "stream",
     "text": [
      "\n",
      "Epochs:93 TrainLoss:138.329047 ValLoss:140.418301"
     ]
    },
    {
     "name": "stderr",
     "output_type": "stream",
     "text": [
      "\r",
      "          \r",
      "\r",
      "          \r",
      " 93%|█████████▎| 93/100 [00:02<00:00, 40.92it/s]\r",
      " 94%|█████████▍| 94/100 [03:58<00:14,  2.41s/it]"
     ]
    },
    {
     "name": "stdout",
     "output_type": "stream",
     "text": [
      "\n",
      "Epochs:94 TrainLoss:138.075779 ValLoss:140.204322"
     ]
    },
    {
     "name": "stderr",
     "output_type": "stream",
     "text": [
      "\r",
      "          \r",
      "\r",
      "          \r",
      " 94%|█████████▍| 94/100 [00:02<00:00, 39.90it/s]\r",
      " 95%|█████████▌| 95/100 [04:00<00:11,  2.39s/it]"
     ]
    },
    {
     "name": "stdout",
     "output_type": "stream",
     "text": [
      "\n",
      "Epochs:95 TrainLoss:137.834082 ValLoss:140.007362"
     ]
    },
    {
     "name": "stderr",
     "output_type": "stream",
     "text": [
      "\r",
      "          \r",
      "\r",
      "          \r",
      " 95%|█████████▌| 95/100 [00:02<00:00, 40.28it/s]\r",
      " 96%|█████████▌| 96/100 [04:03<00:09,  2.38s/it]"
     ]
    },
    {
     "name": "stdout",
     "output_type": "stream",
     "text": [
      "\n",
      "Epochs:96 TrainLoss:137.771807 ValLoss:139.832151"
     ]
    },
    {
     "name": "stderr",
     "output_type": "stream",
     "text": [
      "\r",
      "          \r",
      "\r",
      "          \r",
      " 96%|█████████▌| 96/100 [00:02<00:00, 36.62it/s]\r",
      " 97%|█████████▋| 97/100 [04:05<00:07,  2.46s/it]"
     ]
    },
    {
     "name": "stdout",
     "output_type": "stream",
     "text": [
      "\n",
      "Epochs:97 TrainLoss:137.457138 ValLoss:139.666879"
     ]
    },
    {
     "name": "stderr",
     "output_type": "stream",
     "text": [
      "\r",
      "          \r",
      "\r",
      "          \r",
      " 97%|█████████▋| 97/100 [00:02<00:00, 39.97it/s]\r",
      " 98%|█████████▊| 98/100 [04:08<00:04,  2.45s/it]"
     ]
    },
    {
     "name": "stdout",
     "output_type": "stream",
     "text": [
      "\n",
      "Epochs:98 TrainLoss:137.245477 ValLoss:139.278299"
     ]
    },
    {
     "name": "stderr",
     "output_type": "stream",
     "text": [
      "\r",
      "          \r",
      "\r",
      "          \r",
      " 98%|█████████▊| 98/100 [00:02<00:00, 33.75it/s]\r",
      " 99%|█████████▉| 99/100 [04:11<00:02,  2.58s/it]"
     ]
    },
    {
     "name": "stdout",
     "output_type": "stream",
     "text": [
      "\n",
      "Epochs:99 TrainLoss:136.984611 ValLoss:139.053174"
     ]
    },
    {
     "name": "stderr",
     "output_type": "stream",
     "text": [
      "\r",
      "          \r",
      "\r",
      "          \r",
      " 99%|█████████▉| 99/100 [00:02<00:00, 37.31it/s]\r",
      "100%|██████████| 100/100 [04:13<00:00,  2.60s/it]"
     ]
    },
    {
     "name": "stdout",
     "output_type": "stream",
     "text": [
      "\n",
      "1.0"
     ]
    },
    {
     "name": "stderr",
     "output_type": "stream",
     "text": [
      "\n"
     ]
    },
    {
     "name": "stdout",
     "output_type": "stream",
     "text": [
      " 0.0\n",
      "> <ipython-input-173-3352334173cd>(79)generation()\n",
      "-> for i in tqdm(range(k)):\n",
      "(Pdb) c\n"
     ]
    },
    {
     "name": "stderr",
     "output_type": "stream",
     "text": [
      "100%|██████████| 1000/1000 [00:34<00:00, 29.21it/s]\n"
     ]
    },
    {
     "data": {
      "image/png": "[encoded data removed]",
      "text/plain": [
       "<matplotlib.figure.Figure at 0x7fa10ae9a590>"
      ]
     },
     "metadata": {},
     "output_type": "display_data"
    }
   ],
   "source": [
    "sys.argv=['train.py',\n",
    "         '--save_dir','model',\n",
    "         '--graph', '784', '100', '100',\n",
    "         '--batch','100',\n",
    "         '--chains','100',\n",
    "         '--lr', '0.01',\n",
    "         '--num_epochs', '100',\n",
    "         '--num_mcmc', '1',\n",
    "         '--seed', '212']\n",
    "if __name__==\"__main__\":\n",
    "  main()"
   ]
  },
  {
   "cell_type": "code",
   "execution_count": null,
   "metadata": {
    "collapsed": true
   },
   "outputs": [],
   "source": []
  }
 ],
 "metadata": {
  "kernelspec": {
   "display_name": "Python 2",
   "language": "python",
   "name": "python2"
  },
  "language_info": {
   "codemirror_mode": {
    "name": "ipython",
    "version": 2
   },
   "file_extension": ".py",
   "mimetype": "text/x-python",
   "name": "python",
   "nbconvert_exporter": "python",
   "pygments_lexer": "ipython2",
   "version": "2.7.6"
  }
 },
 "nbformat": 4,
 "nbformat_minor": 0
}
