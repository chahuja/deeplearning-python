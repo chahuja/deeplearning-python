{
 "cells": [
  {
   "cell_type": "markdown",
   "metadata": {},
   "source": [
    "## TODO\n",
    "- NN.forward -- make use of the parameter limit\n",
    "- write the backprob loop\n",
    "- write gradient check\n",
    "- save the model\n",
    "- and then start testing models"
   ]
  },
  {
   "cell_type": "code",
   "execution_count": 1,
   "metadata": {
    "collapsed": false
   },
   "outputs": [
    {
     "name": "stderr",
     "output_type": "stream",
     "text": [
      "/home/chahuja/env/tf/local/lib/python2.7/site-packages/matplotlib/font_manager.py:273: UserWarning: Matplotlib is building the font cache using fc-list. This may take a moment.\n",
      "  warnings.warn('Matplotlib is building the font cache using fc-list. This may take a moment.')\n"
     ]
    }
   ],
   "source": [
    "import seaborn as sb\n",
    "import numpy as np\n",
    "import pdb\n",
    "import matplotlib.pyplot as plt\n",
    "%matplotlib inline"
   ]
  },
  {
   "cell_type": "code",
   "execution_count": 2,
   "metadata": {
    "collapsed": false
   },
   "outputs": [],
   "source": [
    "# Load Data\n",
    "train = np.genfromtxt('digitstrain.txt', delimiter=',')\n",
    "test = np.genfromtxt('digitstest.txt', delimiter=',')\n",
    "val = np.genfromtxt('digitsvalid.txt', delimiter=',')"
   ]
  },
  {
   "cell_type": "markdown",
   "metadata": {},
   "source": [
    "## Plotting Image of a training input"
   ]
  },
  {
   "cell_type": "code",
   "execution_count": 3,
   "metadata": {
    "collapsed": false
   },
   "outputs": [
    {
     "data": {
      "text/plain": [
       "<matplotlib.image.AxesImage at 0x7f428c2697d0>"
      ]
     },
     "execution_count": 3,
     "metadata": {},
     "output_type": "execute_result"
    },
    {
     "data": {
      "image/png": "[encoded data removed]",
      "text/plain": [
       "<matplotlib.figure.Figure at 0x7f42a09f8750>"
      ]
     },
     "metadata": {},
     "output_type": "display_data"
    }
   ],
   "source": [
    "# Plotting the image\n",
    "plt.imshow(train[0,:-1].reshape((28,28)))\n",
    "## The image is squeezed row-wise"
   ]
  },
  {
   "cell_type": "markdown",
   "metadata": {},
   "source": [
    "## Class description\n",
    "```sh\n",
    "graph - [num_nodes(int), num_nodes(int), ...]\n",
    "each layer ends with sigmoid\n",
    "graph ends with softmax and crossentropy loss\n",
    "```"
   ]
  },
  {
   "cell_type": "code",
   "execution_count": 11,
   "metadata": {
    "collapsed": false
   },
   "outputs": [],
   "source": [
    "# Basic loss/activation functions and their gradients which are codenamed \"inv\"\n",
    "# These functions are defined with input as numpy.matrix format.\n",
    "# things may go haywire if numpy.array is used \n",
    "# even though numpy.matrix inherits properties from numpy.array\n",
    "def cross_entropy_loss(vec, gt):\n",
    "  return -gt*np.log(vec)\n",
    "  \n",
    "def sigmoid(mat):\n",
    "  return 1./(1+ np.exp(-mat))\n",
    "\n",
    "def inv_sigmoid(mat):\n",
    "  return sigmoid(mat)*(1-sigmoid(mat))\n",
    "\n",
    "def softmax(vec):\n",
    "  return np.concatenate(\n",
    "    tuple([np.exp(vec[i,:])*1./np.exp(vec[i,:]).sum() for i in range(vec.shape[0])])\n",
    "    , axis = 0)\n",
    "\n",
    "def inv_softmax_with_loss(vec, gt):\n",
    "  # gt - ground truth in one hot vector format\n",
    "  if (vec.shape != gt.shape):\n",
    "    raise Exception(\"Prediction and Expected Values must have the same dimensions\")\n",
    "    \n",
    "  return softmax(vec) - gt"
   ]
  },
  {
   "cell_type": "code",
   "execution_count": 15,
   "metadata": {
    "collapsed": false
   },
   "outputs": [],
   "source": [
    "class NN(object):\n",
    "  def __init__(self,graph):\n",
    "    self.graph = graph\n",
    "    self.weights = list()\n",
    "    \n",
    "    prev_dim = -1\n",
    "    for dim in self.graph:\n",
    "        if (prev_dim > 0):\n",
    "          # set the high and low bounds for the random initialization \n",
    "          # based on xxx rule\n",
    "          high = np.sqrt(6.0/(prev_dim + dim))\n",
    "          low = -high\n",
    "          # prev_dim + 1 to include a row for bias \n",
    "          self.weights.append(np.random.uniform(low=low,high=high,size=(prev_dim+1,dim)))\n",
    "        prev_dim = dim\n",
    "\n",
    "  def forward(self,X,limit = 0):\n",
    "    # add a column of ones to take care of the bias\n",
    "    X = np.concatenate((X,np.expand_dims(np.ones_like(X[:,0]),axis=1)), axis = 1)\n",
    "    X = np.mat(X)\n",
    "    # Converting input to matrix form\n",
    "    for k in range(len(self.weights)):\n",
    "      X = sigmoid(X*np.mat(self.weights[k]))\n",
    "      X = np.concatenate((X,np.ones_like(X[:,0])), axis = 1)\n",
    "    # Remocing the extra layer of ones before softmax\n",
    "    X = X[:,:-1]\n",
    "    return softmax(X)"
   ]
  },
  {
   "cell_type": "code",
   "execution_count": 26,
   "metadata": {
    "collapsed": false
   },
   "outputs": [],
   "source": [
    "model = NN([784,100,50,10])"
   ]
  },
  {
   "cell_type": "code",
   "execution_count": 27,
   "metadata": {
    "collapsed": false
   },
   "outputs": [
    {
     "data": {
      "text/plain": [
       "matrix([[ 0.10223401,  0.10233019,  0.09950957,  0.08852853,  0.12924227,\n",
       "          0.0952147 ,  0.10091445,  0.11205681,  0.08276132,  0.08720814],\n",
       "        [ 0.10083396,  0.10302782,  0.09896994,  0.08727803,  0.13034849,\n",
       "          0.09669254,  0.10108763,  0.11195318,  0.08264818,  0.08716022],\n",
       "        [ 0.10152268,  0.10347071,  0.10012688,  0.08872316,  0.12948407,\n",
       "          0.09515305,  0.10059478,  0.11186583,  0.08178945,  0.0872694 ],\n",
       "        [ 0.10212329,  0.10363466,  0.09942094,  0.0893854 ,  0.12972654,\n",
       "          0.09550172,  0.09956213,  0.1113978 ,  0.08198398,  0.08726355],\n",
       "        [ 0.10201509,  0.10191971,  0.09915075,  0.0884678 ,  0.12954011,\n",
       "          0.09539018,  0.09998106,  0.11253233,  0.08354204,  0.08746094],\n",
       "        [ 0.10138953,  0.10377468,  0.10077369,  0.08809848,  0.12936178,\n",
       "          0.09543373,  0.09929695,  0.11234656,  0.08229371,  0.08723089],\n",
       "        [ 0.10183341,  0.10149552,  0.09941767,  0.08819725,  0.12957439,\n",
       "          0.09582462,  0.10143445,  0.11222829,  0.08333127,  0.08666312],\n",
       "        [ 0.10144719,  0.10289235,  0.09974472,  0.08721589,  0.12925578,\n",
       "          0.09670166,  0.10034226,  0.11312047,  0.08308843,  0.08619124],\n",
       "        [ 0.10156168,  0.10335965,  0.10051934,  0.08853864,  0.12859449,\n",
       "          0.0952052 ,  0.10006801,  0.11163591,  0.08240609,  0.08811099],\n",
       "        [ 0.10146853,  0.1040982 ,  0.09918365,  0.08799105,  0.12945742,\n",
       "          0.0961523 ,  0.09960355,  0.11206577,  0.08272294,  0.08725657]])"
      ]
     },
     "execution_count": 27,
     "metadata": {},
     "output_type": "execute_result"
    }
   ],
   "source": [
    "model.forward(train[0:10,:-1])"
   ]
  },
  {
   "cell_type": "code",
   "execution_count": 28,
   "metadata": {
    "collapsed": false
   },
   "outputs": [
    {
     "name": "stdout",
     "output_type": "stream",
     "text": [
      "[(785, 100), (101, 50), (51, 10)]\n"
     ]
    }
   ],
   "source": [
    "print([model.weights[i].shape for i in range(len(model.weights))])"
   ]
  },
  {
   "cell_type": "code",
   "execution_count": 29,
   "metadata": {
    "collapsed": false
   },
   "outputs": [
    {
     "data": {
      "text/plain": [
       "[array([[ 0.05062882, -0.01128045, -0.07493496, ...,  0.03855577,\n",
       "          0.0466856 , -0.01098065],\n",
       "        [ 0.0143812 , -0.07012097,  0.0739023 , ..., -0.06418279,\n",
       "         -0.06910257, -0.06244531],\n",
       "        [ 0.07475649,  0.04736721, -0.01228276, ..., -0.07270235,\n",
       "          0.07085008,  0.03175375],\n",
       "        ..., \n",
       "        [ 0.07296445, -0.06371534, -0.01142357, ..., -0.05090986,\n",
       "          0.04881721, -0.04563758],\n",
       "        [-0.06939505,  0.07314833,  0.06536761, ..., -0.05791099,\n",
       "         -0.0102137 ,  0.02418136],\n",
       "        [ 0.06546591,  0.05707079, -0.07452245, ...,  0.02735108,\n",
       "         -0.0349033 ,  0.07552443]]),\n",
       " array([[ 0.00880096,  0.14148106, -0.09305398, ..., -0.10546009,\n",
       "          0.15082468, -0.14630054],\n",
       "        [ 0.08112002, -0.1087789 , -0.14479756, ..., -0.13298132,\n",
       "          0.19612121,  0.11460456],\n",
       "        [ 0.15367907,  0.14387722,  0.15639447, ...,  0.0529379 ,\n",
       "          0.16677141,  0.04264093],\n",
       "        ..., \n",
       "        [-0.05637912, -0.11857283, -0.15560352, ..., -0.1406394 ,\n",
       "         -0.1742215 , -0.11970865],\n",
       "        [ 0.08870335, -0.03579753, -0.14229017, ..., -0.09873912,\n",
       "          0.10036164,  0.19069359],\n",
       "        [ 0.05849796, -0.01936689,  0.16143596, ..., -0.00706762,\n",
       "          0.11619915,  0.00469954]]),\n",
       " array([[-0.17829631, -0.0963921 ,  0.20514861, -0.24543199,  0.11302828,\n",
       "         -0.25722122,  0.30627597,  0.19829311,  0.17540285,  0.10714156],\n",
       "        [ 0.2117281 ,  0.19184226, -0.06639828,  0.20397789, -0.22151001,\n",
       "         -0.26931299,  0.10594219,  0.23265954, -0.06152659,  0.10485956],\n",
       "        [-0.00401235,  0.12809795,  0.15439684,  0.01513726,  0.14953668,\n",
       "         -0.31381584,  0.28594091,  0.05596714, -0.13380651,  0.13117441],\n",
       "        [-0.0985872 ,  0.115793  , -0.12838044,  0.09222154,  0.09471891,\n",
       "          0.15217167, -0.31490449, -0.16657101, -0.246757  , -0.27340233],\n",
       "        [-0.04863264,  0.1698051 ,  0.13325773, -0.11854758,  0.30261278,\n",
       "          0.08548799,  0.25374332, -0.27186876, -0.19928806, -0.21332433],\n",
       "        [ 0.278868  , -0.18956565,  0.25059125,  0.30037363,  0.18548963,\n",
       "         -0.15786358,  0.05644593,  0.10570658, -0.2213763 ,  0.29382138],\n",
       "        [-0.20677798, -0.0315282 , -0.0520016 , -0.31535767,  0.02884867,\n",
       "         -0.13915243, -0.05304549,  0.08090758,  0.08023583,  0.22680711],\n",
       "        [-0.18968747,  0.01337167, -0.12725019, -0.26871579,  0.1600348 ,\n",
       "          0.05585236,  0.28505343, -0.19086161,  0.1952742 , -0.14521657],\n",
       "        [-0.11818057,  0.10327992, -0.16714321,  0.15029738, -0.11149677,\n",
       "          0.27596002, -0.1162357 ,  0.17250065,  0.18216722,  0.12611326],\n",
       "        [-0.01983604, -0.30135432, -0.30495538,  0.2958094 ,  0.0505497 ,\n",
       "         -0.28593647, -0.17848552,  0.02993993,  0.08663919,  0.31544763],\n",
       "        [ 0.23562203,  0.29809675,  0.17398194,  0.12852399,  0.26276813,\n",
       "          0.19944744,  0.16964078,  0.00351779,  0.07737613,  0.20284064],\n",
       "        [ 0.30501317, -0.25028557,  0.19763961, -0.27250217, -0.05612771,\n",
       "          0.19029794,  0.26002547,  0.02129533, -0.29686451, -0.04648014],\n",
       "        [-0.21290853,  0.03608381, -0.12108338, -0.2832841 , -0.23685326,\n",
       "          0.10947006, -0.15727189,  0.07906857,  0.08942791, -0.19605595],\n",
       "        [ 0.28099311, -0.11356396, -0.1986131 ,  0.18428939, -0.16369141,\n",
       "         -0.10519034,  0.14306516,  0.2690675 , -0.09654558, -0.05754057],\n",
       "        [-0.21709721, -0.11439286,  0.07435628, -0.13353328,  0.1971103 ,\n",
       "          0.01255364, -0.10734086,  0.30989868,  0.02149687, -0.19074601],\n",
       "        [-0.06386939, -0.21710374, -0.12947811, -0.19121713,  0.26434398,\n",
       "          0.2080409 ,  0.28904293, -0.29912435, -0.111733  , -0.2081981 ],\n",
       "        [ 0.09831493, -0.02039942, -0.18860356,  0.15910395, -0.02995706,\n",
       "         -0.28453175, -0.18653401, -0.12215904,  0.04776948,  0.0154874 ],\n",
       "        [-0.24097289, -0.19157835, -0.09525647,  0.02165142, -0.07216993,\n",
       "         -0.22279625, -0.07231917,  0.1865288 , -0.16696531,  0.10663942],\n",
       "        [ 0.14661027,  0.21465486, -0.31145416, -0.2296019 , -0.00836399,\n",
       "         -0.12347736, -0.28514522,  0.31302238, -0.1369821 , -0.23244249],\n",
       "        [-0.1183054 ,  0.15854767, -0.04629636,  0.17514217, -0.21155145,\n",
       "          0.07279164,  0.23911964,  0.01232475,  0.29503055,  0.03907939],\n",
       "        [-0.3011858 ,  0.30611971,  0.29547957,  0.1464284 , -0.1275576 ,\n",
       "          0.05530143, -0.06707363, -0.04987569, -0.20238215,  0.05002279],\n",
       "        [-0.06249966,  0.00640234, -0.01683511,  0.061154  ,  0.24208669,\n",
       "          0.0937727 ,  0.03967012, -0.07086881,  0.23435428, -0.23171885],\n",
       "        [ 0.25188938, -0.14613115, -0.17447273, -0.23392434,  0.07835896,\n",
       "         -0.18449686, -0.04991142, -0.08184009,  0.17457342,  0.01645739],\n",
       "        [-0.09475273,  0.092578  ,  0.26497175, -0.21326799, -0.18742608,\n",
       "         -0.08073725, -0.17565905, -0.24259039,  0.17158178,  0.17783104],\n",
       "        [ 0.24252897, -0.25304887,  0.13486721, -0.09924529, -0.13970204,\n",
       "         -0.30889229,  0.17159232, -0.27399637,  0.31289708,  0.11267434],\n",
       "        [-0.10894816, -0.10595303, -0.0562617 , -0.29925812, -0.30364722,\n",
       "          0.00530232, -0.28485695,  0.01114711,  0.29802155, -0.27725376],\n",
       "        [-0.16756221,  0.02497132,  0.07255365, -0.21102008,  0.28257832,\n",
       "         -0.03304919,  0.31593093, -0.21381681,  0.1210056 , -0.15222386],\n",
       "        [ 0.01415281,  0.08781681, -0.11891708,  0.24836346, -0.19656028,\n",
       "          0.27805115, -0.1504794 ,  0.2747703 ,  0.02960112,  0.30540921],\n",
       "        [ 0.13186113,  0.11282884, -0.15158973, -0.27286668,  0.15968426,\n",
       "          0.31414593,  0.2041261 ,  0.07256974,  0.06065419, -0.09156191],\n",
       "        [ 0.31264765, -0.24678897,  0.00779629,  0.20388258,  0.14604608,\n",
       "         -0.22157202, -0.0537842 , -0.01425775, -0.02481204,  0.10384668],\n",
       "        [ 0.26020932,  0.29654535, -0.06415123,  0.10074133, -0.04978499,\n",
       "          0.13017588, -0.01861934,  0.12024039, -0.11399471, -0.05457701],\n",
       "        [ 0.01063768, -0.29203932, -0.03766047,  0.07204845,  0.1729728 ,\n",
       "          0.07859509,  0.26831269,  0.20484572,  0.03026912,  0.00238657],\n",
       "        [-0.15768222,  0.01940489, -0.09688599,  0.06111744,  0.22761264,\n",
       "          0.23240579,  0.08752872, -0.06515056, -0.20866206,  0.22004793],\n",
       "        [-0.22826616,  0.16256036, -0.18063684, -0.30447226,  0.19997169,\n",
       "         -0.20533296,  0.26329846,  0.25689743,  0.18666027,  0.15015415],\n",
       "        [ 0.15797727,  0.14948427, -0.04980718,  0.27131087,  0.1666092 ,\n",
       "          0.0791425 , -0.1210225 , -0.11582773,  0.16880639, -0.11823485],\n",
       "        [-0.2487739 , -0.00919451, -0.12732468,  0.04488043, -0.06892759,\n",
       "         -0.03024889,  0.08277935, -0.21188439, -0.19234459, -0.12444288],\n",
       "        [-0.22314792, -0.20249971, -0.18149851,  0.30836354,  0.21775574,\n",
       "         -0.09645768,  0.28319819, -0.08989789,  0.05836344, -0.24051441],\n",
       "        [ 0.14882576,  0.31225357, -0.13151054, -0.07383599, -0.02539792,\n",
       "          0.17371646, -0.15313848, -0.08168592,  0.08303114, -0.03001462],\n",
       "        [-0.23812171, -0.01149031,  0.1060154 , -0.04583468,  0.05410757,\n",
       "         -0.18535688,  0.13884356, -0.18219127, -0.077278  ,  0.12900161],\n",
       "        [ 0.21381314, -0.0714532 ,  0.09696677,  0.17738366, -0.1732156 ,\n",
       "          0.26586008, -0.2901645 ,  0.23764997, -0.3154167 ,  0.00748766],\n",
       "        [-0.11996049,  0.09562968, -0.09623246, -0.16482151, -0.25014518,\n",
       "          0.17620525,  0.15846857,  0.16970459,  0.0716489 , -0.26547281],\n",
       "        [ 0.26874376,  0.3059065 , -0.02144478,  0.23077527,  0.03458289,\n",
       "          0.22243591, -0.12681182,  0.23862163, -0.1005614 , -0.14111166],\n",
       "        [ 0.24043018,  0.00236008,  0.1998322 , -0.28530272, -0.16461318,\n",
       "          0.16832852,  0.28706612,  0.03776909, -0.20005006,  0.04356429],\n",
       "        [-0.05656151,  0.1601498 ,  0.22864451, -0.07795749, -0.04635807,\n",
       "         -0.09414616, -0.2500707 ,  0.0521321 , -0.22417272,  0.16575361],\n",
       "        [ 0.13137599,  0.26338531,  0.25123821, -0.03122971,  0.31540235,\n",
       "         -0.27335617, -0.12053243,  0.10336003,  0.0795809 , -0.25259559],\n",
       "        [-0.1923786 , -0.25221364,  0.23208675, -0.26271802,  0.19615554,\n",
       "         -0.19810047, -0.18212345, -0.15823928, -0.28529725, -0.28049953],\n",
       "        [ 0.27466711, -0.20849244,  0.25174386,  0.1945211 , -0.03482489,\n",
       "          0.19912489, -0.01321916,  0.02064997, -0.21071626, -0.04602021],\n",
       "        [ 0.25243479,  0.00168084, -0.27278409, -0.03183977,  0.23433106,\n",
       "          0.31284203, -0.08764954,  0.05953541, -0.29044099, -0.00509854],\n",
       "        [-0.14583207,  0.22777279,  0.16083477, -0.1458322 ,  0.26288793,\n",
       "         -0.01295833,  0.11206086, -0.15952072, -0.25605103,  0.20359872],\n",
       "        [ 0.03126169, -0.03530599,  0.01473533,  0.17995331,  0.07091667,\n",
       "          0.16669559, -0.10897111,  0.18033665, -0.19041842,  0.31129386],\n",
       "        [ 0.04071595,  0.05595049,  0.16280392,  0.22341631,  0.312394  ,\n",
       "         -0.04347721, -0.04534922,  0.16893064,  0.20254361, -0.12759177]])]"
      ]
     },
     "execution_count": 29,
     "metadata": {},
     "output_type": "execute_result"
    }
   ],
   "source": [
    "model.weights"
   ]
  },
  {
   "cell_type": "code",
   "execution_count": 9,
   "metadata": {
    "collapsed": false
   },
   "outputs": [
    {
     "data": {
      "text/plain": [
       "(3, 1)"
      ]
     },
     "execution_count": 9,
     "metadata": {},
     "output_type": "execute_result"
    }
   ],
   "source": [
    "a = np.array([[1, 2], [3, 4], [10,11]])\n",
    "b = np.array([[5, 6,7]]).T\n",
    "b = np.ones_like(a[:,0])\n",
    "b = np.expand_dims(b,axis=1)\n",
    "a.shape\n",
    "b.shape"
   ]
  },
  {
   "cell_type": "code",
   "execution_count": 10,
   "metadata": {
    "collapsed": false
   },
   "outputs": [
    {
     "data": {
      "text/plain": [
       "31"
      ]
     },
     "execution_count": 10,
     "metadata": {},
     "output_type": "execute_result"
    }
   ],
   "source": [
    "a.sum()"
   ]
  },
  {
   "cell_type": "code",
   "execution_count": null,
   "metadata": {
    "collapsed": false
   },
   "outputs": [],
   "source": [
    "np.concatenate((a, b), axis=1)"
   ]
  },
  {
   "cell_type": "code",
   "execution_count": null,
   "metadata": {
    "collapsed": false
   },
   "outputs": [],
   "source": [
    "a = np.matrix([np.array([1,2]),np.array([3,4])])"
   ]
  },
  {
   "cell_type": "code",
   "execution_count": null,
   "metadata": {
    "collapsed": false
   },
   "outputs": [],
   "source": [
    "a\n"
   ]
  },
  {
   "cell_type": "code",
   "execution_count": null,
   "metadata": {
    "collapsed": true
   },
   "outputs": [],
   "source": []
  }
 ],
 "metadata": {
  "kernelspec": {
   "display_name": "Python 2",
   "language": "python",
   "name": "python2"
  },
  "language_info": {
   "codemirror_mode": {
    "name": "ipython",
    "version": 2
   },
   "file_extension": ".py",
   "mimetype": "text/x-python",
   "name": "python",
   "nbconvert_exporter": "python",
   "pygments_lexer": "ipython2",
   "version": "2.7.6"
  }
 },
 "nbformat": 4,
 "nbformat_minor": 0
}
