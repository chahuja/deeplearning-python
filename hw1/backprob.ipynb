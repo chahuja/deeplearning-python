{
 "cells": [
  {
   "cell_type": "markdown",
   "metadata": {},
   "source": [
    "## TODO\n",
    "- write the backprob loop\n",
    "- write gradient check\n",
    "- save the model\n",
    "- and then start testing models"
   ]
  },
  {
   "cell_type": "code",
   "execution_count": 1,
   "metadata": {
    "collapsed": false
   },
   "outputs": [
    {
     "name": "stderr",
     "output_type": "stream",
     "text": [
      "/home/chahuja/env/tf/local/lib/python2.7/site-packages/matplotlib/font_manager.py:273: UserWarning: Matplotlib is building the font cache using fc-list. This may take a moment.\n",
      "  warnings.warn('Matplotlib is building the font cache using fc-list. This may take a moment.')\n"
     ]
    }
   ],
   "source": [
    "import seaborn as sb\n",
    "import numpy as np\n",
    "import pdb\n",
    "import matplotlib.pyplot as plt\n",
    "%matplotlib inline"
   ]
  },
  {
   "cell_type": "code",
   "execution_count": 2,
   "metadata": {
    "collapsed": false
   },
   "outputs": [],
   "source": [
    "# Load Data\n",
    "train = np.genfromtxt('digitstrain.txt', delimiter=',')\n",
    "test = np.genfromtxt('digitstest.txt', delimiter=',')\n",
    "val = np.genfromtxt('digitsvalid.txt', delimiter=',')"
   ]
  },
  {
   "cell_type": "markdown",
   "metadata": {},
   "source": [
    "## Plotting Image of a training input"
   ]
  },
  {
   "cell_type": "code",
   "execution_count": 3,
   "metadata": {
    "collapsed": false
   },
   "outputs": [
    {
     "data": {
      "text/plain": [
       "<matplotlib.image.AxesImage at 0x7f428c2697d0>"
      ]
     },
     "execution_count": 3,
     "metadata": {},
     "output_type": "execute_result"
    },
    {
     "data": {
      "image/png": "[encoded data removed]",
      "text/plain": [
       "<matplotlib.figure.Figure at 0x7f42a09f8750>"
      ]
     },
     "metadata": {},
     "output_type": "display_data"
    }
   ],
   "source": [
    "# Plotting the image\n",
    "plt.imshow(train[0,:-1].reshape((28,28)))\n",
    "## The image is squeezed row-wise"
   ]
  },
  {
   "cell_type": "markdown",
   "metadata": {},
   "source": [
    "## Class description\n",
    "```sh\n",
    "graph - [num_nodes(int), num_nodes(int), ...]\n",
    "each layer ends with sigmoid\n",
    "graph ends with softmax and crossentropy loss\n",
    "```"
   ]
  },
  {
   "cell_type": "code",
   "execution_count": 30,
   "metadata": {
    "collapsed": false
   },
   "outputs": [],
   "source": [
    "# Basic loss/activation functions and their gradients which are codenamed \"inv\"\n",
    "# These functions are defined with input as numpy.matrix format.\n",
    "# things may go haywire if numpy.array is used \n",
    "# even though numpy.matrix inherits properties from numpy.array\n",
    "def cross_entropy_loss(vec, gt):\n",
    "  return -gt*np.log(vec)\n",
    "  \n",
    "def sigmoid(mat):\n",
    "  return 1./(1+ np.exp(-mat))\n",
    "\n",
    "def inv_sigmoid(mat):\n",
    "  return sigmoid(mat)*(1-sigmoid(mat))\n",
    "\n",
    "def softmax(vec):\n",
    "  return np.concatenate(\n",
    "    tuple([np.exp(vec[i,:])*1./np.exp(vec[i,:]).sum() for i in range(vec.shape[0])])\n",
    "    , axis = 0)\n",
    "\n",
    "def inv_softmax_with_loss(vec, gt):\n",
    "  # gt - ground truth in one hot vector format\n",
    "  if (vec.shape != gt.shape):\n",
    "    raise Exception(\"Prediction and Expected Values must have the same dimensions\")\n",
    "    \n",
    "  return softmax(vec) - gt\n",
    "\n",
    "def relu(value):\n",
    "  if (value<=0):\n",
    "    return 0\n",
    "  else:\n",
    "    return value"
   ]
  },
  {
   "cell_type": "code",
   "execution_count": 154,
   "metadata": {
    "collapsed": false
   },
   "outputs": [],
   "source": [
    "class NN(object):\n",
    "  def __init__(self,graph):\n",
    "    self.graph = graph\n",
    "    self.weights = list()\n",
    "    \n",
    "    prev_dim = -1\n",
    "    for dim in self.graph:\n",
    "        if (prev_dim > 0):\n",
    "          # set the high and low bounds for the random initialization \n",
    "          # based on xxx rule\n",
    "          high = np.sqrt(6.0/(prev_dim + dim))\n",
    "          low = -high\n",
    "          # prev_dim + 1 to include a row for bias \n",
    "          self.weights.append(np.random.uniform(low=low,high=high,size=(prev_dim+1,dim)))\n",
    "        prev_dim = dim\n",
    "\n",
    "  def forward(self,X,limit = -1, activation = True):\n",
    "    # We use the forward function to calculate the forward prop\n",
    "    ## while training the model, various segments of the forward prop are required\n",
    "    ## which need to be extracted at the right times\n",
    "    # \"limit\" and \"activation\" define the layers that have to be removed from the end\n",
    "    ## limit = -1 refers to complete calculation\n",
    "    #--------------------------\n",
    "    ### limit = -1 and activation=False is an invalid selection with no error check\n",
    "    #--------------------------\n",
    "    ## limit = 0 ignores the softmax function\n",
    "    ## limit = 0 and activation=False ignores the softmax and sigmoid function\n",
    "    \n",
    "    # add a column of ones to take care of the bias\n",
    "    X = np.concatenate((X,np.expand_dims(np.ones_like(X[:,0]),axis=1)), axis = 1)\n",
    "    X = np.mat(X)\n",
    "    # Converting input to matrix form\n",
    "    for k in range(len(self.weights)-relu(limit)):\n",
    "      A = X*np.mat(self.weights[k])\n",
    "      # Stopping and taking activation if required\n",
    "      if (k == range(len(self.weights)-relu(limit))[-1] and activation == False):\n",
    "        X = A\n",
    "        break\n",
    "      X = sigmoid(A)\n",
    "      X = np.concatenate((X,np.ones_like(X[:,0])), axis = 1)\n",
    "    \n",
    "    if (limit >= 0 or activation==False):\n",
    "      return X\n",
    "    \n",
    "    # Removing the extra layer of ones before softmax\n",
    "    X = X[:,:-1]\n",
    "    return softmax(X)"
   ]
  },
  {
   "cell_type": "code",
   "execution_count": 196,
   "metadata": {
    "collapsed": false
   },
   "outputs": [],
   "source": [
    "model = NN([784,100,50,10])"
   ]
  },
  {
   "cell_type": "code",
   "execution_count": 208,
   "metadata": {
    "collapsed": false
   },
   "outputs": [
    {
     "data": {
      "text/plain": [
       "<matplotlib.axes._subplots.AxesSubplot at 0x7f425ad50450>"
      ]
     },
     "execution_count": 208,
     "metadata": {},
     "output_type": "execute_result"
    },
    {
     "data": {
      "image/png": "[encoded data removed]",
      "text/plain": [
       "<matplotlib.figure.Figure at 0x7f425ad87b90>"
      ]
     },
     "metadata": {},
     "output_type": "display_data"
    }
   ],
   "source": [
    "sb.distplot(model.forward(train[0:2,:-1],2)[0])"
   ]
  },
  {
   "cell_type": "code",
   "execution_count": 200,
   "metadata": {
    "collapsed": false
   },
   "outputs": [
    {
     "data": {
      "text/plain": [
       "<matplotlib.axes._subplots.AxesSubplot at 0x7f425b4ba690>"
      ]
     },
     "execution_count": 200,
     "metadata": {},
     "output_type": "execute_result"
    },
    {
     "data": {
      "image/png": "[encoded data removed]",
      "text/plain": [
       "<matplotlib.figure.Figure at 0x7f425b461e90>"
      ]
     },
     "metadata": {},
     "output_type": "display_data"
    }
   ],
   "source": [
    "i = 2\n",
    "sb.distplot(model.weights[i].reshape((np.prod(model.weights[i].shape),)))"
   ]
  },
  {
   "cell_type": "code",
   "execution_count": 107,
   "metadata": {
    "collapsed": false
   },
   "outputs": [
    {
     "name": "stdout",
     "output_type": "stream",
     "text": [
      "[(785, 100), (101, 10)]\n"
     ]
    }
   ],
   "source": [
    "print([model.weights[i].shape for i in range(len(model.weights))])"
   ]
  }
 ],
 "metadata": {
  "kernelspec": {
   "display_name": "Python 2",
   "language": "python",
   "name": "python2"
  },
  "language_info": {
   "codemirror_mode": {
    "name": "ipython",
    "version": 2
   },
   "file_extension": ".py",
   "mimetype": "text/x-python",
   "name": "python",
   "nbconvert_exporter": "python",
   "pygments_lexer": "ipython2",
   "version": "2.7.6"
  }
 },
 "nbformat": 4,
 "nbformat_minor": 0
}
